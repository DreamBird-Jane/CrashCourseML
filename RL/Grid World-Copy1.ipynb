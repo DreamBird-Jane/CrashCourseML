{
 "cells": [
  {
   "cell_type": "code",
   "execution_count": null,
   "metadata": {},
   "outputs": [],
   "source": [
    "import numpy as np"
   ]
  },
  {
   "cell_type": "code",
   "execution_count": null,
   "metadata": {},
   "outputs": [],
   "source": [
    "class GridWorld:\n",
    "    def __init__(self, size, start, exit, blocks=None):\n",
    "        self.size=size\n",
    "        self.blocks = set() if blocks is None else blocks\n",
    "        assert not self.danger(exit)\n",
    "        assert not self.danger(start)\n",
    "        self.start_pos = start\n",
    "        self.exit_pos = exit\n",
    "        self.restart()\n",
    "        self.V = None\n",
    "        self.A = None\n",
    "        \n",
    "    def restart(self):\n",
    "        self.score = 0  # +1 win, -1 lose, 0 playing\n",
    "        self.pos = self.start_pos \n",
    "        self.last_move = 0\n",
    "    \n",
    "    def is_end(self):\n",
    "        return self.score != 0\n",
    "        \n",
    "    def danger(self, pos):        \n",
    "        if pos[0]<0 or pos[1]<0:\n",
    "            return True\n",
    "        if pos[0]>=self.size[0] or pos[1]>=self.size[1]:\n",
    "            return True\n",
    "        return pos in self.blocks\n",
    "    \n",
    "    def next_pos(self, d):\n",
    "        return (self.pos[0]+abs(d-1)-1, self.pos[1]+abs(d-2)-1)\n",
    "    \n",
    "    def move(self, d):\n",
    "        if self.score:\n",
    "            return self\n",
    "        self.last_move = d\n",
    "        # 0 right, 1 up, 2 left, 3 down\n",
    "        self.pos = self.next_pos(d)\n",
    "        if self.danger(self.pos):\n",
    "            self.score = -1\n",
    "        if self.pos == self.exit_pos:\n",
    "            self.score = 1\n",
    "        return self\n",
    "    \n",
    "    def _repr_html_(self):\n",
    "        td_style = \"width: 2em;height: 2em;\"\n",
    "        def img(f, style=\"\"):\n",
    "            style = \"style='width: 1.5em;height: 1.5em;{}'\".format(style)\n",
    "            return \"<img src='img/{}.png' {}/>\".format(f, style)\n",
    "        s = \"<table border=1>\"\n",
    "        for i in range(-1,self.size[0]+1):\n",
    "            s+=\"<tr>\"            \n",
    "            for j in range(-1,self.size[1]+1):\n",
    "                color='#888'\n",
    "                content = \"\"\n",
    "                if self.V is not None:\n",
    "                    if self.V[i,j] == 2:\n",
    "                        color=\"#77f\"\n",
    "                    else:\n",
    "                        l = min(max(int(self.V[i,j]*128+128),0), 255)\n",
    "                        color = \"#%02x%02x80\"%(255-l,l)\n",
    "\n",
    "                if self.danger((i,j)):                    \n",
    "                    if (i,j) in self.blocks:\n",
    "                        content = img('skull')\n",
    "                    else:\n",
    "                        content = img('radiation')\n",
    "                if self.exit_pos == (i,j):                    \n",
    "                    content = img('cherry')\n",
    "                if self.pos == (i,j):\n",
    "                    style = \"\"\n",
    "                    imgfn = ['pacman', 'smile', 'frown'][self.score]\n",
    "                    if self.score == 0:\n",
    "                        style = \"transform: rotate({}deg)\".format(-90*self.last_move)\n",
    "                    content = img(imgfn, style)\n",
    "                if not content and self.A is not None and self.A[i,j]>=0:\n",
    "                    style = \"transform: rotate({}deg)\".format(-90*self.A[i,j])\n",
    "                    content = img('arrow', style=style)\n",
    "                    \n",
    "                s+=\"<td style='{}background: {}'>\".format(td_style,\n",
    "                                                               color)\n",
    "                s += content\n",
    "                    \n",
    "                s+=\"</td>\"\n",
    "            s+=\"</tr>\"\n",
    "        s += \"</table>\"        \n",
    "        return s \n",
    "        \n",
    "    "
   ]
  },
  {
   "cell_type": "code",
   "execution_count": null,
   "metadata": {},
   "outputs": [],
   "source": [
    "blocks={(1,1), (3,3)}\n",
    "gw = GridWorld(size=(5,5), start=(0,0), exit=(4,4), blocks=blocks)\n",
    "gw"
   ]
  },
  {
   "cell_type": "code",
   "execution_count": null,
   "metadata": {},
   "outputs": [],
   "source": [
    "from ipywidgets import widgets as W\n",
    "from IPython.display import display"
   ]
  },
  {
   "cell_type": "code",
   "execution_count": null,
   "metadata": {},
   "outputs": [],
   "source": [
    "gw_html = W.HTML(value=gw._repr_html_())\n",
    "gw.restart()\n",
    "\n",
    "def gw_move(i):\n",
    "    def func(b=None):\n",
    "        gw_html.value = gw.move(i)._repr_html_()\n",
    "    return func\n",
    "\n",
    "def gw_restart(b=None):\n",
    "    gw.restart()\n",
    "    gw_html.value = gw._repr_html_()\n",
    "buttons = [] \n",
    "for i, bn in enumerate(['arrow-right', 'arrow-up', \n",
    "                        'arrow-left', 'arrow-down', 'refresh']):\n",
    "    b = W.Button(icon='fa-'+bn, layout=W.Layout(width='5em'))\n",
    "    b.on_click(gw_move(i) if i<4 else gw_restart)\n",
    "    buttons.append(b)\n",
    "\n",
    "W.HBox([gw_html, W.VBox(buttons)])\n"
   ]
  },
  {
   "cell_type": "markdown",
   "metadata": {},
   "source": [
    "Random player"
   ]
  },
  {
   "cell_type": "code",
   "execution_count": null,
   "metadata": {},
   "outputs": [],
   "source": [
    "from random import randint\n",
    "from time import sleep\n",
    "def random_play(g):\n",
    "    while True:\n",
    "        gw_html.value = g._repr_html_()\n",
    "        sleep(0.1)\n",
    "        if g.is_end():\n",
    "            break\n",
    "        a = randint(0,3)\n",
    "        g.move(a)\n",
    "for i in range(10)        :\n",
    "    gw.restart()\n",
    "    random_play(gw)"
   ]
  },
  {
   "cell_type": "code",
   "execution_count": null,
   "metadata": {},
   "outputs": [],
   "source": []
  },
  {
   "cell_type": "code",
   "execution_count": null,
   "metadata": {},
   "outputs": [],
   "source": [
    "import ipywidgets as W\n",
    "from IPython.display import display\n",
    "c = W.Controller()\n",
    "c"
   ]
  },
  {
   "cell_type": "code",
   "execution_count": null,
   "metadata": {},
   "outputs": [],
   "source": [
    "from time import time\n",
    "def reaction(n1, n2):\n",
    "    last_t = (True, True)\n",
    "    def f(data):\n",
    "        nonlocal last_t        \n",
    "        v = data['owner'].value\n",
    "        t = (v>0.5, v<-0.5)\n",
    "        if any(t) and last_t != t:\n",
    "            gw_move(n1 if t[0] else n2)()\n",
    "        last_t = t\n",
    "    return f\n",
    "c.axes[6].observe(reaction(0,2))\n",
    "c.axes[7].observe(reaction(3,1))\n",
    "c.buttons[1].observe(lambda d: gw_restart() if d['owner'].value else None)"
   ]
  },
  {
   "cell_type": "markdown",
   "metadata": {},
   "source": [
    "## Reinforcement Learning\n",
    "\n",
    "* Goals?\n",
    "* Rewards?\n",
    "    * at each step $t$, a reward is a number $R_t$\n",
    "* The goal is to maximizing the total rewards\n",
    "    * $ G_t = R_{t+1} + R_{t+2} + R_{t+3} + \\cdots + R_T $\n",
    "* 朝三暮四\n",
    "    * $ G_t = R_{t+1} + \\gamma R_{t+2} + \\gamma ^2 R_{t+3} + \\cdots  $"
   ]
  },
  {
   "cell_type": "markdown",
   "metadata": {},
   "source": [
    "# Tabular Metod"
   ]
  },
  {
   "cell_type": "markdown",
   "metadata": {},
   "source": [
    "## State Value\n",
    "\n",
    "* Policy $\\pi$\n",
    "* $S_t$ is the state at step $t$\n",
    "* $v_{\\pi}(s) = E[G_t | S_t = s] $\n",
    "* only if we knew what $v_\\pi$ is\n",
    "\n"
   ]
  },
  {
   "cell_type": "markdown",
   "metadata": {},
   "source": [
    "### Bella Equation\n",
    "如果用 $a, r, s'$ 分別代表動作、獎勵、下一步的狀態。那麼\n",
    "\n",
    "$ v_\\pi (s) = \\sum_a \\pi(a|s) \\sum_{s',r} p(s', r'|s , a)(r+\\gamma v_k(s') ) $\n",
    "\n",
    "意思是 $v_\\pi (s)$   等於考慮各種可能的動作、和結果後 $r + \\gamma v(s')$  的期望值"
   ]
  },
  {
   "cell_type": "code",
   "execution_count": null,
   "metadata": {},
   "outputs": [],
   "source": [
    "gw_html"
   ]
  },
  {
   "cell_type": "code",
   "execution_count": null,
   "metadata": {},
   "outputs": [],
   "source": [
    "# 先全部當成 0\n",
    "from time import sleep\n",
    "from random import randint\n",
    "V = np.zeros((gw.size[0]+1, gw.size[1]+1))\n",
    "\n",
    "        "
   ]
  },
  {
   "cell_type": "code",
   "execution_count": null,
   "metadata": {
    "scrolled": false
   },
   "outputs": [],
   "source": [
    "from random import randint\n",
    "\n",
    "# 隨機玩，並且紀錄過程\n",
    "def random_play(g):\n",
    "    history = []\n",
    "    while True:\n",
    "        history.append(g.pos)\n",
    "        gw_html.value = g._repr_html_()\n",
    "        sleep(0.01)\n",
    "        if g.is_end():\n",
    "            break\n",
    "        a = randint(0,3)\n",
    "        g.move(a)\n",
    "    return history\n",
    "\n",
    "α = 0.1\n",
    "γ = 0.9\n",
    "gw.V = V\n",
    "for i in range(1000)        :\n",
    "    gw.restart()\n",
    "    history = random_play(gw)        \n",
    "    r = gw.score\n",
    "    v_next = 0\n",
    "    for pos in reversed(history):\n",
    "        v = r + γ*v_next\n",
    "        V[pos] = V[pos] + α * (v-V[pos])\n",
    "        v_next = v\n",
    "        r = 0"
   ]
  },
  {
   "cell_type": "code",
   "execution_count": null,
   "metadata": {},
   "outputs": [],
   "source": [
    "from random import randint\n",
    "display(gw_html)\n",
    "def random_play(g):\n",
    "    history = []\n",
    "    while True:\n",
    "        history.append(g.pos)\n",
    "        #gw_html.value = g._repr_html_()\n",
    "        #sleep(0.01)\n",
    "        if g.is_end():\n",
    "            break\n",
    "        a = randint(0,3)\n",
    "        g.move(a)\n",
    "    return history\n",
    "\n",
    "α = 0.2\n",
    "γ = 0.95\n",
    "gw.V = V\n",
    "for i in range(1000)        :\n",
    "    gw.restart()\n",
    "    gw_html.value = gw._repr_html_()\n",
    "    history = random_play(gw)    \n",
    "    #print(history, gw.score)\n",
    "    \n",
    "    r = gw.score\n",
    "    v_next = 0\n",
    "    for pos in reversed(history):\n",
    "        v = r + γ*v_next\n",
    "        V[pos] = V[pos] + α * (v-V[pos])\n",
    "        v_next = v\n",
    "        r = 0\n"
   ]
  },
  {
   "cell_type": "code",
   "execution_count": null,
   "metadata": {},
   "outputs": [],
   "source": [
    "def next_pos(pos, d):\n",
    "    return (pos[0]+abs(d-1)-1, pos[1]+abs(d-2)-1)\n",
    "\n",
    "def update_max_A(gw):\n",
    "    if gw.A is None:\n",
    "        gw.A= -np.ones_like(gw.V)\n",
    "    for i in range(gw.size[0]):\n",
    "        for j in range(gw.size[1]):\n",
    "            gw.A[i,j] = np.argmax([V[next_pos((i,j),a)] for a in range(4)])    \n",
    "    gw_html.value = gw._repr_html_()\n",
    "update_max_A(gw)"
   ]
  },
  {
   "cell_type": "code",
   "execution_count": null,
   "metadata": {},
   "outputs": [],
   "source": [
    "# max policy, random\n",
    "from random import randint, random, shuffle, choice\n",
    "ϵ = 0.3\n",
    "def random_play(g):\n",
    "    history = []\n",
    "    actions = [0,1,2,3]\n",
    "    while True:\n",
    "        history.append(g.pos)\n",
    "        gw_html.value = g._repr_html_()\n",
    "        sleep(0.03)        \n",
    "        if g.is_end():\n",
    "            break\n",
    "        if random()< ϵ:\n",
    "            a = choice(actions)\n",
    "        else:\n",
    "            a = np.argmax([V[g.next_pos(d)] for d in actions])\n",
    "        g.move(a)\n",
    "    return history\n",
    "\n",
    "α = 0.1\n",
    "γ = 0.9\n",
    "gw.V = V\n",
    "for i in range(100)        :\n",
    "    gw.restart()\n",
    "    gw_html.value = gw._repr_html_()\n",
    "    history = random_play(gw)    \n",
    "    #print(history, gw.score)\n",
    "    \n",
    "    r = gw.score\n",
    "    v_next = 0\n",
    "    for pos in reversed(history):\n",
    "        v = r + γ*v_next\n",
    "        V[pos] = V[pos] + α * (v-V[pos])\n",
    "        v_next = v\n",
    "        r = 0\n",
    "    update_max_A(gw)"
   ]
  },
  {
   "cell_type": "code",
   "execution_count": 37,
   "metadata": {},
   "outputs": [
    {
     "data": {
      "application/vnd.jupyter.widget-view+json": {
       "model_id": "ed523e6014d942c8babaa9a2fd6c069c",
       "version_major": 2,
       "version_minor": 0
      },
      "text/html": [
       "<p>Failed to display Jupyter Widget of type <code>HTML</code>.</p>\n",
       "<p>\n",
       "  If you're reading this message in Jupyter Notebook or JupyterLab, it may mean\n",
       "  that the widgets JavaScript is still loading. If this message persists, it\n",
       "  likely means that the widgets JavaScript library is either not installed or\n",
       "  not enabled. See the <a href=\"https://ipywidgets.readthedocs.io/en/stable/user_install.html\">Jupyter\n",
       "  Widgets Documentation</a> for setup instructions.\n",
       "</p>\n",
       "<p>\n",
       "  If you're reading this message in another notebook frontend (for example, a static\n",
       "  rendering on GitHub or <a href=\"https://nbviewer.jupyter.org/\">NBViewer</a>),\n",
       "  it may mean that your frontend doesn't currently support widgets.\n",
       "</p>\n"
      ],
      "text/plain": [
       "HTML(value='')"
      ]
     },
     "metadata": {},
     "output_type": "display_data"
    }
   ],
   "source": [
    "# max policy, random, decay, no duplicate update\n",
    "from random import randint, random, shuffle, choice\n",
    "ϵ = 0.3\n",
    "V[...] = 0\n",
    "gw_html = W.HTML()\n",
    "display(gw_html)\n",
    "def random_play(g):\n",
    "    history = []\n",
    "    actions = [0,1,2,3]\n",
    "    while True:\n",
    "        history.append(g.pos)\n",
    "        gw_html.value = g._repr_html_()\n",
    "        sleep(0.03)        \n",
    "        if g.is_end():\n",
    "            break\n",
    "        if random()< ϵ:\n",
    "            a = choice(actions)\n",
    "        else:\n",
    "            a = np.argmax([V[g.next_pos(d)] for d in actions])\n",
    "        g.move(a)\n",
    "    return history\n",
    "\n",
    "α = 0.1\n",
    "γ = 0.95\n",
    "gw.V = V\n",
    "for i in range(200):\n",
    "    gw.restart()\n",
    "    gw_html.value = gw._repr_html_()\n",
    "    history = random_play(gw)       \n",
    "    r = gw.score\n",
    "    v_next = 0\n",
    "    visited = set()\n",
    "    not_visited = set(history)\n",
    "    for pos in reversed(history):\n",
    "        v = r + γ*v_next        \n",
    "        if pos not in visited:\n",
    "            V[pos] = V[pos] + α * (v-V[pos])\n",
    "            not_visited.remove(pos)\n",
    "            visited.add(pos)\n",
    "        v_next = V[pos]\n",
    "        r = 0\n",
    "    update_max_A(gw)\n",
    "    # ϵ *=0.99"
   ]
  },
  {
   "cell_type": "code",
   "execution_count": 48,
   "metadata": {},
   "outputs": [],
   "source": [
    "gw= GridWorld((5,10), (0,0), (0,9))\n",
    "V = np.zeros((gw.size[0]+2, gw.size[1]+2))"
   ]
  },
  {
   "cell_type": "code",
   "execution_count": 56,
   "metadata": {},
   "outputs": [],
   "source": [
    "gw= GridWorld((10,5), (0,0), (9,0))\n",
    "V = np.zeros((gw.size[0]+2, gw.size[1]+2))"
   ]
  },
  {
   "cell_type": "code",
   "execution_count": null,
   "metadata": {},
   "outputs": [],
   "source": [
    "gw= GridWorld((10,10), (0,0), (9,0), blocks=[(3,1), (3,2), (2,1)])\n",
    "V = np.zeros((gw.size[0]+2, gw.size[1]+2))"
   ]
  },
  {
   "cell_type": "code",
   "execution_count": 42,
   "metadata": {},
   "outputs": [
    {
     "data": {
      "application/vnd.jupyter.widget-view+json": {
       "model_id": "7ecd5f3ae3aa46e38698bf0004087684",
       "version_major": 2,
       "version_minor": 0
      },
      "text/html": [
       "<p>Failed to display Jupyter Widget of type <code>HTML</code>.</p>\n",
       "<p>\n",
       "  If you're reading this message in Jupyter Notebook or JupyterLab, it may mean\n",
       "  that the widgets JavaScript is still loading. If this message persists, it\n",
       "  likely means that the widgets JavaScript library is either not installed or\n",
       "  not enabled. See the <a href=\"https://ipywidgets.readthedocs.io/en/stable/user_install.html\">Jupyter\n",
       "  Widgets Documentation</a> for setup instructions.\n",
       "</p>\n",
       "<p>\n",
       "  If you're reading this message in another notebook frontend (for example, a static\n",
       "  rendering on GitHub or <a href=\"https://nbviewer.jupyter.org/\">NBViewer</a>),\n",
       "  it may mean that your frontend doesn't currently support widgets.\n",
       "</p>\n"
      ],
      "text/plain": [
       "HTML(value='')"
      ]
     },
     "metadata": {},
     "output_type": "display_data"
    }
   ],
   "source": [
    "# max policy, random, decay, no duplicate update, max(offline)\n",
    "from random import randint, random, shuffle, choice\n",
    "\n",
    "ϵ = .3\n",
    "V[...] = 0\n",
    "gw_html = W.HTML()\n",
    "display(gw_html)\n",
    "def random_play(g):\n",
    "    history = []\n",
    "    actions = [0,1,2,3]\n",
    "    while True:\n",
    "        history.append(g.pos)\n",
    "        gw_html.value = g._repr_html_()\n",
    "        sleep(0.01)        \n",
    "        if g.is_end():\n",
    "            break\n",
    "        if random()< ϵ:\n",
    "            a = choice(actions)\n",
    "        else:\n",
    "            a = np.argmax([V[g.next_pos(d)] for d in actions])\n",
    "        g.move(a)        \n",
    "    return history\n",
    "\n",
    "\n",
    "α = 0.1\n",
    "γ = 0.95\n",
    "gw.V = V\n",
    "for i in range(200):\n",
    "    gw.restart()\n",
    "    history = random_play(gw)\n",
    "    r = gw.score\n",
    "    v_next = 0\n",
    "    visited = set()\n",
    "    not_visited = set(history)\n",
    "    for pos in reversed(history):\n",
    "        if r == 0:\n",
    "            npos = [next_pos(pos, a) for a in range(4)]\n",
    "            vs = [V[p] for p in npos if p not in not_visited]\n",
    "            vs = [v for v in vs if v!=2]            \n",
    "            v_next = max(v for v in vs if v!=2)            \n",
    "        v = r + γ*v_next\n",
    "        if pos not in visited:\n",
    "            if V[pos]==2:                  \n",
    "                V[pos] =  α * v\n",
    "            else:\n",
    "                V[pos] = V[pos] + α * (v-V[pos])\n",
    "            not_visited.remove(pos)\n",
    "            visited.add(pos)\n",
    "        v_next = V[pos]\n",
    "        r = 0\n",
    "    update_max_A(gw)"
   ]
  },
  {
   "cell_type": "markdown",
   "metadata": {},
   "source": [
    "## TD(0)"
   ]
  },
  {
   "cell_type": "code",
   "execution_count": 58,
   "metadata": {},
   "outputs": [
    {
     "data": {
      "application/vnd.jupyter.widget-view+json": {
       "model_id": "3120c8b1cb9148a5a0e7353c6292a093",
       "version_major": 2,
       "version_minor": 0
      },
      "text/html": [
       "<p>Failed to display Jupyter Widget of type <code>HTML</code>.</p>\n",
       "<p>\n",
       "  If you're reading this message in Jupyter Notebook or JupyterLab, it may mean\n",
       "  that the widgets JavaScript is still loading. If this message persists, it\n",
       "  likely means that the widgets JavaScript library is either not installed or\n",
       "  not enabled. See the <a href=\"https://ipywidgets.readthedocs.io/en/stable/user_install.html\">Jupyter\n",
       "  Widgets Documentation</a> for setup instructions.\n",
       "</p>\n",
       "<p>\n",
       "  If you're reading this message in another notebook frontend (for example, a static\n",
       "  rendering on GitHub or <a href=\"https://nbviewer.jupyter.org/\">NBViewer</a>),\n",
       "  it may mean that your frontend doesn't currently support widgets.\n",
       "</p>\n"
      ],
      "text/plain": [
       "HTML(value='')"
      ]
     },
     "metadata": {},
     "output_type": "display_data"
    }
   ],
   "source": [
    "# max policy, random, decay, no duplicate update, max(offline)\n",
    "from random import randint, random, shuffle, choice\n",
    "\n",
    "gw_html = W.HTML()\n",
    "display(gw_html)\n",
    "gw.V = V\n",
    "gw.V[...] = 0\n",
    "def TD0(g):\n",
    "    actions = [0,1,2,3]\n",
    "    while True:\n",
    "        #gw_html.value = g._repr_html_()\n",
    "        if g.is_end():\n",
    "            break\n",
    "        sleep(0.02)        \n",
    "        if random()< ϵ:\n",
    "            a = choice(actions)\n",
    "        else:\n",
    "            a = np.argmax([V[next_pos(g.pos, a)] for a in range(4)])        \n",
    "        g.move(a)\n",
    "        r = g.score\n",
    "        pos = g.pos\n",
    "        V[pos] += α*(r+γ*max(V[next_pos(pos, a)] for a in range(4)) - V[pos])\n",
    "\n",
    "α = 0.1\n",
    "γ = 0.95\n",
    "ϵ = .3\n",
    "for i in range(2000):\n",
    "    gw.restart()\n",
    "    TD0(gw)         \n",
    "    update_max_A(gw)\n",
    "    #ϵ *= 0.99"
   ]
  },
  {
   "cell_type": "markdown",
   "metadata": {},
   "source": [
    "## Q function\n",
    "\n",
    "using $ q(s,a) $ instead of $v(s' | a)$"
   ]
  },
  {
   "cell_type": "code",
   "execution_count": 60,
   "metadata": {},
   "outputs": [],
   "source": [
    "gw = GridWorld((5,10),(0,0), (0,9))"
   ]
  },
  {
   "cell_type": "code",
   "execution_count": 61,
   "metadata": {},
   "outputs": [
    {
     "data": {
      "application/vnd.jupyter.widget-view+json": {
       "model_id": "0688de08978b4a87a953743192576d3a",
       "version_major": 2,
       "version_minor": 0
      },
      "text/html": [
       "<p>Failed to display Jupyter Widget of type <code>HTML</code>.</p>\n",
       "<p>\n",
       "  If you're reading this message in Jupyter Notebook or JupyterLab, it may mean\n",
       "  that the widgets JavaScript is still loading. If this message persists, it\n",
       "  likely means that the widgets JavaScript library is either not installed or\n",
       "  not enabled. See the <a href=\"https://ipywidgets.readthedocs.io/en/stable/user_install.html\">Jupyter\n",
       "  Widgets Documentation</a> for setup instructions.\n",
       "</p>\n",
       "<p>\n",
       "  If you're reading this message in another notebook frontend (for example, a static\n",
       "  rendering on GitHub or <a href=\"https://nbviewer.jupyter.org/\">NBViewer</a>),\n",
       "  it may mean that your frontend doesn't currently support widgets.\n",
       "</p>\n"
      ],
      "text/plain": [
       "HTML(value='')"
      ]
     },
     "metadata": {},
     "output_type": "display_data"
    },
    {
     "ename": "KeyboardInterrupt",
     "evalue": "",
     "output_type": "error",
     "traceback": [
      "\u001b[0;31m---------------------------------------------------------------------------\u001b[0m",
      "\u001b[0;31mKeyboardInterrupt\u001b[0m                         Traceback (most recent call last)",
      "\u001b[0;32m<ipython-input-61-d7b1e8d03219>\u001b[0m in \u001b[0;36m<module>\u001b[0;34m()\u001b[0m\n\u001b[1;32m     44\u001b[0m     \u001b[0mgw\u001b[0m\u001b[0;34m.\u001b[0m\u001b[0mrestart\u001b[0m\u001b[0;34m(\u001b[0m\u001b[0;34m)\u001b[0m\u001b[0;34m\u001b[0m\u001b[0m\n\u001b[1;32m     45\u001b[0m     \u001b[0mgw_html\u001b[0m\u001b[0;34m.\u001b[0m\u001b[0mvalue\u001b[0m \u001b[0;34m=\u001b[0m \u001b[0mgw\u001b[0m\u001b[0;34m.\u001b[0m\u001b[0m_repr_html_\u001b[0m\u001b[0;34m(\u001b[0m\u001b[0;34m)\u001b[0m\u001b[0;34m\u001b[0m\u001b[0m\n\u001b[0;32m---> 46\u001b[0;31m     \u001b[0mQlearn\u001b[0m\u001b[0;34m(\u001b[0m\u001b[0mgw\u001b[0m\u001b[0;34m)\u001b[0m\u001b[0;34m\u001b[0m\u001b[0m\n\u001b[0m\u001b[1;32m     47\u001b[0m     \u001b[0mupdate_Qlearn_VA\u001b[0m\u001b[0;34m(\u001b[0m\u001b[0mgw\u001b[0m\u001b[0;34m,\u001b[0m \u001b[0mQ\u001b[0m\u001b[0;34m)\u001b[0m\u001b[0;34m\u001b[0m\u001b[0m\n\u001b[1;32m     48\u001b[0m     \u001b[0;31m#ϵ *= 0.99\u001b[0m\u001b[0;34m\u001b[0m\u001b[0;34m\u001b[0m\u001b[0m\n",
      "\u001b[0;32m<ipython-input-61-d7b1e8d03219>\u001b[0m in \u001b[0;36mQlearn\u001b[0;34m(g)\u001b[0m\n\u001b[1;32m     27\u001b[0m         \u001b[0;32mif\u001b[0m \u001b[0mg\u001b[0m\u001b[0;34m.\u001b[0m\u001b[0mis_end\u001b[0m\u001b[0;34m(\u001b[0m\u001b[0;34m)\u001b[0m\u001b[0;34m:\u001b[0m\u001b[0;34m\u001b[0m\u001b[0m\n\u001b[1;32m     28\u001b[0m             \u001b[0;32mbreak\u001b[0m\u001b[0;34m\u001b[0m\u001b[0m\n\u001b[0;32m---> 29\u001b[0;31m         \u001b[0msleep\u001b[0m\u001b[0;34m(\u001b[0m\u001b[0;36m0.02\u001b[0m\u001b[0;34m)\u001b[0m\u001b[0;34m\u001b[0m\u001b[0m\n\u001b[0m\u001b[1;32m     30\u001b[0m         \u001b[0;32mif\u001b[0m \u001b[0mrandom\u001b[0m\u001b[0;34m(\u001b[0m\u001b[0;34m)\u001b[0m\u001b[0;34m<\u001b[0m \u001b[0mϵ\u001b[0m\u001b[0;34m:\u001b[0m\u001b[0;34m\u001b[0m\u001b[0m\n\u001b[1;32m     31\u001b[0m             \u001b[0ma\u001b[0m \u001b[0;34m=\u001b[0m \u001b[0mchoice\u001b[0m\u001b[0;34m(\u001b[0m\u001b[0mactions\u001b[0m\u001b[0;34m)\u001b[0m\u001b[0;34m\u001b[0m\u001b[0m\n",
      "\u001b[0;31mKeyboardInterrupt\u001b[0m: "
     ]
    }
   ],
   "source": [
    "# max policy, random, decay, no duplicate update, max(offline)\n",
    "from random import randint, random, shuffle, choice\n",
    "\n",
    "Q = np.full( (gw.size[0]+2, gw.size[1]+2, 4), 0.)\n",
    "gw_html = W.HTML()\n",
    "display(gw_html)\n",
    "\n",
    "def update_Qlearn_VA(gw, Q):\n",
    "    if gw.A is None:\n",
    "        gw.A = np.full( (gw.size[0]+2, gw.size[1]+2), -1)\n",
    "    if gw.V is None:\n",
    "        gw.V = np.full( (gw.size[0]+2, gw.size[1]+2), 2.)\n",
    "    for i in range(gw.size[0]):\n",
    "        for j in range(gw.size[1]):\n",
    "            if Q[i,j].min() == 2:\n",
    "                gw.A[i,j]=-1\n",
    "                gw.V[i,j]= 2\n",
    "            else:\n",
    "                gw.A[i,j] = np.argmax(np.where( Q[i,j] > 1, -2, Q[i,j]))\n",
    "                gw.V[i,j] = np.max(np.where( Q[i,j] > 1, -2, Q[i,j]))\n",
    "    gw_html.value = gw._repr_html_()\n",
    "\n",
    "def Qlearn(g):\n",
    "    actions = [0,1,2,3]\n",
    "    while True:\n",
    "        gw_html.value = g._repr_html_()\n",
    "        if g.is_end():\n",
    "            break\n",
    "        sleep(0.02)        \n",
    "        if random()< ϵ:\n",
    "            a = choice(actions)\n",
    "        else:\n",
    "            a = np.argmax(Q[g.pos])\n",
    "        src_pos = g.pos\n",
    "        g.move(a)    \n",
    "        dst_pos = g.pos\n",
    "        r = g.score\n",
    "        Q[src_pos][a] += α*(r+γ*Q[dst_pos].max() - Q[src_pos][a])\n",
    "\n",
    "α = 0.1\n",
    "γ = 0.95\n",
    "ϵ = .3\n",
    "for i in range(200):\n",
    "    gw.restart()\n",
    "    gw_html.value = gw._repr_html_()\n",
    "    Qlearn(gw)         \n",
    "    update_Qlearn_VA(gw, Q)\n",
    "    #ϵ *= 0.99"
   ]
  },
  {
   "cell_type": "code",
   "execution_count": null,
   "metadata": {},
   "outputs": [],
   "source": [
    "# max policy, random, decay, no duplicate update, max(offline)\n",
    "from random import randint, random, shuffle, choice\n",
    "\n",
    "Q = np.full( (gw.size[0]+2, gw.size[1]+2, 4), 0.)\n",
    "gw_html = W.HTML()\n",
    "display(gw_html)\n",
    "\n",
    "def update_Qlearn_VA(gw, Q):\n",
    "    if gw.A is None:\n",
    "        gw.A = np.full( (gw.size[0]+2, gw.size[1]+2), -1)\n",
    "    if gw.V is None:\n",
    "        gw.V = np.full( (gw.size[0]+2, gw.size[1]+2), 2.)\n",
    "    for i in range(gw.size[0]):\n",
    "        for j in range(gw.size[1]):\n",
    "            if Q[i,j].min() == 2:\n",
    "                gw.A[i,j]=-1\n",
    "                gw.V[i,j]= 2\n",
    "            else:\n",
    "                gw.A[i,j] = np.argmax(np.where( Q[i,j] > 1, -2, Q[i,j]))\n",
    "                gw.V[i,j] = np.max(np.where( Q[i,j] > 1, -2, Q[i,j]))\n",
    "    gw_html.value = gw._repr_html_()\n",
    "\n",
    "def SARSA(g):\n",
    "    actions = [0,1,2,3]\n",
    "    prev_a = None\n",
    "    prev_pos = None\n",
    "    while True:\n",
    "        gw_html.value = g._repr_html_()\n",
    "        if random()< ϵ:\n",
    "            a = choice(actions)\n",
    "        else:\n",
    "            a = np.argmax(Q[g.pos])\n",
    "        r = g.score\n",
    "        if prev_a is not None:\n",
    "            Q[prev_pos][prev_a] += α*(r+γ*Q[g.pos][a] - Q[prev_pos][prev_a])                \n",
    "        if g.is_end():            \n",
    "            break\n",
    "        sleep(0.02)\n",
    "        prev_pos = g.pos\n",
    "        g.move(a)\n",
    "        prev_a = a        \n",
    "\n",
    "α = 0.1\n",
    "γ = 0.95\n",
    "ϵ = .3\n",
    "for i in range(200):\n",
    "    gw.restart()\n",
    "    gw_html.value = gw._repr_html_()\n",
    "    SARSA(gw)         \n",
    "    update_Qlearn_VA(gw, Q)\n",
    "    #ϵ *= 0.99"
   ]
  }
 ],
 "metadata": {
  "kernelspec": {
   "display_name": "Python 3",
   "language": "python",
   "name": "python3"
  },
  "language_info": {
   "codemirror_mode": {
    "name": "ipython",
    "version": 3
   },
   "file_extension": ".py",
   "mimetype": "text/x-python",
   "name": "python",
   "nbconvert_exporter": "python",
   "pygments_lexer": "ipython3",
   "version": "3.5.3"
  },
  "widgets": {
   "state": {
    "c45f45cf07f1415981a570d2043cf0bf": {
     "views": [
      {
       "cell_index": 4
      }
     ]
    },
    "f2a1da1b967f4fcb949ce99ac8e3669d": {
     "views": [
      {
       "cell_index": 5
      }
     ]
    }
   },
   "version": "1.2.0"
  }
 },
 "nbformat": 4,
 "nbformat_minor": 1
}
