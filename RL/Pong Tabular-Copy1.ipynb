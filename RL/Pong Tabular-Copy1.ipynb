{
 "cells": [
  {
   "cell_type": "code",
   "execution_count": 1,
   "metadata": {},
   "outputs": [],
   "source": [
    "# 需要先安裝 gym[atari]\n",
    "# headless 執行: xvfb-run -a jupyter notebook\n",
    "import gym"
   ]
  },
  {
   "cell_type": "code",
   "execution_count": 2,
   "metadata": {},
   "outputs": [
    {
     "name": "stderr",
     "output_type": "stream",
     "text": [
      "[2017-10-24 20:15:40,051] Making new env: Pong-ram-v0\n"
     ]
    }
   ],
   "source": [
    "env = gym.make('Pong-ram-v0')"
   ]
  },
  {
   "cell_type": "code",
   "execution_count": 3,
   "metadata": {},
   "outputs": [],
   "source": [
    "import numpy as np\n",
    "import ipywidgets as W\n",
    "from PIL import Image"
   ]
  },
  {
   "cell_type": "markdown",
   "metadata": {},
   "source": [
    "看一下基本資訊"
   ]
  },
  {
   "cell_type": "code",
   "execution_count": 4,
   "metadata": {},
   "outputs": [
    {
     "data": {
      "text/plain": [
       "Discrete(6)"
      ]
     },
     "execution_count": 4,
     "metadata": {},
     "output_type": "execute_result"
    }
   ],
   "source": [
    "env.action_space"
   ]
  },
  {
   "cell_type": "code",
   "execution_count": 5,
   "metadata": {},
   "outputs": [
    {
     "data": {
      "text/plain": [
       "(-inf, inf)"
      ]
     },
     "execution_count": 5,
     "metadata": {},
     "output_type": "execute_result"
    }
   ],
   "source": [
    "env.reward_range"
   ]
  },
  {
   "cell_type": "code",
   "execution_count": 6,
   "metadata": {},
   "outputs": [
    {
     "data": {
      "text/plain": [
       "array([192,   0,   0,   0, 110,  38,   0,   7,  63,   1,  60,  59,   0,\n",
       "         0,   0,  62, 255,   0, 255, 253,   0,   8,   0,  24, 128,  32,\n",
       "         1,  86, 247,  86, 247,  86, 247, 134, 243, 245, 243, 240, 240,\n",
       "       242, 242,  32,  32,  64,  64,  64, 188,  65, 189,   0,   8, 109,\n",
       "        37,  37,  60,   0,   0,   0,   0, 109, 109,  37,  37, 192, 192,\n",
       "       192, 192,   1, 192, 202, 247, 202, 247, 202, 247, 202, 247,   0,\n",
       "         0,   0,   0,   0,   0,   0,   0,   0,   0,   0,   0,   0,   0,\n",
       "         0,   0,   0,   0,   0,   0,   0,   0,   0,   0,   0,   0,   0,\n",
       "         0,   0,   0,   0,   0,   0,   0,   0,   0,   0,   0,   0,   0,\n",
       "         0,   0,   0,   0,   0,   0,  54, 236, 242, 121, 240], dtype=uint8)"
      ]
     },
     "execution_count": 6,
     "metadata": {},
     "output_type": "execute_result"
    }
   ],
   "source": [
    "env.reset()"
   ]
  },
  {
   "cell_type": "markdown",
   "metadata": {},
   "source": [
    "抓圖出來"
   ]
  },
  {
   "cell_type": "code",
   "execution_count": 7,
   "metadata": {},
   "outputs": [
    {
     "data": {
      "image/png": "[encoded data removed]",
      "text/plain": [
       "<PIL.Image.Image image mode=RGB size=160x210 at 0x7FEEDF84F2E8>"
      ]
     },
     "execution_count": 7,
     "metadata": {},
     "output_type": "execute_result"
    }
   ],
   "source": [
    "Image.fromarray(env.render(mode='rgb_array'))"
   ]
  },
  {
   "cell_type": "code",
   "execution_count": 8,
   "metadata": {},
   "outputs": [],
   "source": [
    "from io import BytesIO\n",
    "def to_png(a):\n",
    "    with BytesIO() as bio:\n",
    "        Image.fromarray(a).save(bio, 'png')\n",
    "        return bio.getvalue()"
   ]
  },
  {
   "cell_type": "markdown",
   "metadata": {},
   "source": [
    "觀察"
   ]
  },
  {
   "cell_type": "code",
   "execution_count": 9,
   "metadata": {},
   "outputs": [
    {
     "data": {
      "application/vnd.jupyter.widget-view+json": {
       "model_id": "28b09b03fb5243edb5a8bf4c73a87a99",
       "version_major": 2,
       "version_minor": 0
      },
      "text/html": [
       "<p>Failed to display Jupyter Widget of type <code>HBox</code>.</p>\n",
       "<p>\n",
       "  If you're reading this message in Jupyter Notebook or JupyterLab, it may mean\n",
       "  that the widgets JavaScript is still loading. If this message persists, it\n",
       "  likely means that the widgets JavaScript library is either not installed or\n",
       "  not enabled. See the <a href=\"https://ipywidgets.readthedocs.io/en/stable/user_install.html\">Jupyter\n",
       "  Widgets Documentation</a> for setup instructions.\n",
       "</p>\n",
       "<p>\n",
       "  If you're reading this message in another notebook frontend (for example, a static\n",
       "  rendering on GitHub or <a href=\"https://nbviewer.jupyter.org/\">NBViewer</a>),\n",
       "  it may mean that your frontend doesn't currently support widgets.\n",
       "</p>\n"
      ],
      "text/plain": [
       "HBox(children=(Image(value=b''), VBox(children=(Button(description='0', style=ButtonStyle()), Button(description='1', style=ButtonStyle()), Button(description='2', style=ButtonStyle()), Button(description='3', style=ButtonStyle()), Button(description='4', style=ButtonStyle()), Button(description='5', style=ButtonStyle()))), VBox(children=(Text(value=''), HTML(value='')))))"
      ]
     },
     "metadata": {},
     "output_type": "display_data"
    }
   ],
   "source": [
    "from functools import partial\n",
    "last_ob = None\n",
    "def pressed(a, x):\n",
    "    global last_ob\n",
    "    observation, reward, done, info = env.step(a)\n",
    "    img = env.render(mode='rgb_array')\n",
    "    screen.value = to_png(img)\n",
    "    txt.value = \"{} {} {} {:02x} {:02x} {:02x}\".format(reward, done, info, \n",
    "                                                       observation[49],observation[54], observation[60] )\n",
    "    h = \"<table>\"\n",
    "    for i in range(8):\n",
    "        h+=\"<tr>\"\n",
    "        for j in range(16):\n",
    "            color = 'black'\n",
    "            if last_ob is not None:\n",
    "                if last_ob[16*i+j]!=observation[16*i+j]:\n",
    "                    color='red'\n",
    "            h+=\"<td style='width: 2.5em;color: %s'>%02X</td>\"%(color, observation[16*i+j])\n",
    "        h+=\"</tr>\"\n",
    "    h+=\"</table\"\n",
    "    html.value=h\n",
    "    last_ob = observation.copy()\n",
    "buttons = [W.Button(description=str(i)) for i in range(6)]\n",
    "for i in range(6):\n",
    "    buttons[i].on_click(partial(pressed,i))\n",
    "txt = W.Text()\n",
    "screen = W.Image()\n",
    "html = W.HTML()\n",
    "display(W.HBox([screen, W.VBox(buttons), W.VBox([txt, html])]))\n",
    "env.reset();\n"
   ]
  },
  {
   "cell_type": "markdown",
   "metadata": {},
   "source": [
    "找到適當參數後， 手刻 AI"
   ]
  },
  {
   "cell_type": "code",
   "execution_count": 10,
   "metadata": {},
   "outputs": [
    {
     "data": {
      "application/vnd.jupyter.widget-view+json": {
       "model_id": "360c10475dad4eee93320704da896cf1",
       "version_major": 2,
       "version_minor": 0
      },
      "text/html": [
       "<p>Failed to display Jupyter Widget of type <code>Image</code>.</p>\n",
       "<p>\n",
       "  If you're reading this message in Jupyter Notebook or JupyterLab, it may mean\n",
       "  that the widgets JavaScript is still loading. If this message persists, it\n",
       "  likely means that the widgets JavaScript library is either not installed or\n",
       "  not enabled. See the <a href=\"https://ipywidgets.readthedocs.io/en/stable/user_install.html\">Jupyter\n",
       "  Widgets Documentation</a> for setup instructions.\n",
       "</p>\n",
       "<p>\n",
       "  If you're reading this message in another notebook frontend (for example, a static\n",
       "  rendering on GitHub or <a href=\"https://nbviewer.jupyter.org/\">NBViewer</a>),\n",
       "  it may mean that your frontend doesn't currently support widgets.\n",
       "</p>\n"
      ],
      "text/plain": [
       "Image(value=b'')"
      ]
     },
     "metadata": {},
     "output_type": "display_data"
    },
    {
     "ename": "AssertionError",
     "evalue": "",
     "output_type": "error",
     "traceback": [
      "\u001b[0;31m---------------------------------------------------------------------------\u001b[0m",
      "\u001b[0;31mAssertionError\u001b[0m                            Traceback (most recent call last)",
      "\u001b[0;32m<ipython-input-10-e96e876fea83>\u001b[0m in \u001b[0;36m<module>\u001b[0;34m()\u001b[0m\n\u001b[1;32m     16\u001b[0m             \u001b[0;32massert\u001b[0m \u001b[0mx\u001b[0m\u001b[0;34m>\u001b[0m\u001b[0;36m0x40\u001b[0m \u001b[0;32mand\u001b[0m \u001b[0mx\u001b[0m\u001b[0;34m<\u001b[0m\u001b[0;36m210\u001b[0m\u001b[0;34m\u001b[0m\u001b[0m\n\u001b[1;32m     17\u001b[0m             \u001b[0;32massert\u001b[0m \u001b[0mdy\u001b[0m\u001b[0;34m>\u001b[0m\u001b[0;34m-\u001b[0m\u001b[0;36m4\u001b[0m \u001b[0;32mand\u001b[0m \u001b[0mdy\u001b[0m \u001b[0;34m<\u001b[0m \u001b[0;36m4\u001b[0m\u001b[0;34m\u001b[0m\u001b[0m\n\u001b[0;32m---> 18\u001b[0;31m             \u001b[0;32massert\u001b[0m \u001b[0my0\u001b[0m\u001b[0;34m>=\u001b[0m\u001b[0;36m30\u001b[0m \u001b[0;32mand\u001b[0m \u001b[0my0\u001b[0m\u001b[0;34m<=\u001b[0m\u001b[0;36m210\u001b[0m\u001b[0;34m\u001b[0m\u001b[0m\n\u001b[0m\u001b[1;32m     19\u001b[0m             \u001b[0;32massert\u001b[0m \u001b[0my2\u001b[0m\u001b[0;34m>=\u001b[0m\u001b[0;36m30\u001b[0m \u001b[0;32mand\u001b[0m \u001b[0my2\u001b[0m\u001b[0;34m<=\u001b[0m\u001b[0;36m210\u001b[0m\u001b[0;34m\u001b[0m\u001b[0m\n\u001b[1;32m     20\u001b[0m     \u001b[0;32mif\u001b[0m \u001b[0mdx\u001b[0m \u001b[0;34m<\u001b[0m \u001b[0;36m0\u001b[0m\u001b[0;34m:\u001b[0m\u001b[0;34m\u001b[0m\u001b[0m\n",
      "\u001b[0;31mAssertionError\u001b[0m: "
     ]
    }
   ],
   "source": [
    "from time import sleep\n",
    "screen = W.Image()\n",
    "display(screen)\n",
    "observation = env.reset()\n",
    "wait = 0\n",
    "for i in range(50):\n",
    "    env.step(0)\n",
    "for i in range(8000):\n",
    "    x,y0 = observation[[49,54]]\n",
    "    y2 = observation[60]\n",
    "    dy = (observation[56]+127)%256-127\n",
    "    dx = (observation[58]+127)%256-127\n",
    "    if i>0:\n",
    "        assert dx ==1 or dx ==-1\n",
    "        if dx < 0:\n",
    "            assert x>0x40 and x<210\n",
    "            assert dy>-4 and dy < 4\n",
    "            assert y0>=30 and y0<=210\n",
    "            assert y2>=30 and y2<=210\n",
    "    if dx < 0:\n",
    "        y = (int(y0 - (186-x)*dy/dx)-44)%(326)\n",
    "        if y>163:\n",
    "            y=326-y\n",
    "        y+=38\n",
    "    else:\n",
    "        y=115\n",
    "    if y2<y-3:\n",
    "        if 40<y-y2 or wait<=0:\n",
    "            a = 3\n",
    "            wait=(40-(y-y2))//8\n",
    "        else:\n",
    "            wait-=1\n",
    "            a=0\n",
    "    elif y2 > y+3:\n",
    "        if y2-y>40 or wait<=0:\n",
    "            a = 2\n",
    "            wait=(40-(y2-y))//8\n",
    "        else:\n",
    "            wait-=1\n",
    "            a = 0\n",
    "    else:\n",
    "        a = 0\n",
    "        wait =0\n",
    "    observation, reward, done, info = env.step(a)\n",
    "    img = env.render(mode='rgb_array')\n",
    "    screen.value = to_png(img)\n",
    "    sleep(1/60)"
   ]
  },
  {
   "cell_type": "code",
   "execution_count": null,
   "metadata": {},
   "outputs": [],
   "source": [
    "y0, dx"
   ]
  },
  {
   "cell_type": "code",
   "execution_count": 11,
   "metadata": {},
   "outputs": [],
   "source": [
    "img = env.render(mode='rgb_array')\n",
    "screen.value = to_png(img)"
   ]
  },
  {
   "cell_type": "markdown",
   "metadata": {},
   "source": [
    "用 Tabular Q learning 試試看， 狀態為預測的落點以及目前的位置之間的差距"
   ]
  },
  {
   "cell_type": "code",
   "execution_count": 71,
   "metadata": {},
   "outputs": [],
   "source": [
    "from time import sleep\n",
    "from random import randint, random, shuffle, choice\n",
    "\n",
    "α = 1e-2\n",
    "γ = 0.9\n",
    "ϵ = .1\n",
    "\n",
    "Q=np.zeros((100,3))\n",
    "actions = [0,2,3]\n",
    "def compute_s(observation):\n",
    "    dx = (observation[58]+127)%256-127\n",
    "    if dx>=0:\n",
    "        return 0    \n",
    "    dy = (observation[56]+127)%256-127\n",
    "    x,y0 = observation[[49,54]]\n",
    "    y2 = observation[60]    \n",
    "    y = (int(y0 - (186-x)*dy/dx)-44)%(326)\n",
    "    if y>163:\n",
    "        y=326-y\n",
    "    y+=38\n",
    "    s = (y-y2)//2\n",
    "    if s<-49:\n",
    "        s=-49\n",
    "    elif s>49:\n",
    "        s=49\n",
    "    return s+50\n",
    "\n",
    "def Qlearn(test=False, screen=None, T=40):\n",
    "    observation = env.reset()\n",
    "    for i in range(50):\n",
    "        observation, reward, done, info =env.step(choice(actions))\n",
    "    s2 = compute_s(observation)\n",
    "    total_r = 0\n",
    "    for i in range(T):\n",
    "        s = s2\n",
    "        if not test and random()< ϵ:\n",
    "            a = choice(actions)\n",
    "        elif s == 0:\n",
    "            a = choice(actions)\n",
    "        else:\n",
    "            a = actions[np.argmax(Q[s])]\n",
    "        observation, reward, done, info = env.step(a)        \n",
    "        s2 = compute_s(observation)\n",
    "        r = reward\n",
    "        total_r+=r\n",
    "        if not test and s!=0:\n",
    "            if s2==0:\n",
    "                r=1\n",
    "            a = max(0, a-1)\n",
    "            Q[s][a] += α*(r+γ*Q[s2].max() - Q[s][a])\n",
    "            #if r!=0:\n",
    "                #return total_r\n",
    "        if screen is not None:\n",
    "            img = env.render(mode='rgb_array')\n",
    "            screen.value = to_png(img)\n",
    "            sleep(1/60)\n",
    "    return total_r"
   ]
  },
  {
   "cell_type": "code",
   "execution_count": 61,
   "metadata": {},
   "outputs": [
    {
     "data": {
      "application/vnd.jupyter.widget-view+json": {
       "model_id": "eeb0844ba6fb4b38b8af33891276a627",
       "version_major": 2,
       "version_minor": 0
      },
      "text/html": [
       "<p>Failed to display Jupyter Widget of type <code>Image</code>.</p>\n",
       "<p>\n",
       "  If you're reading this message in Jupyter Notebook or JupyterLab, it may mean\n",
       "  that the widgets JavaScript is still loading. If this message persists, it\n",
       "  likely means that the widgets JavaScript library is either not installed or\n",
       "  not enabled. See the <a href=\"https://ipywidgets.readthedocs.io/en/stable/user_install.html\">Jupyter\n",
       "  Widgets Documentation</a> for setup instructions.\n",
       "</p>\n",
       "<p>\n",
       "  If you're reading this message in another notebook frontend (for example, a static\n",
       "  rendering on GitHub or <a href=\"https://nbviewer.jupyter.org/\">NBViewer</a>),\n",
       "  it may mean that your frontend doesn't currently support widgets.\n",
       "</p>\n"
      ],
      "text/plain": [
       "Image(value=b'')"
      ]
     },
     "metadata": {},
     "output_type": "display_data"
    },
    {
     "data": {
      "application/vnd.jupyter.widget-view+json": {
       "model_id": "6f24e4c0ed294916a38848eb3556ff5b",
       "version_major": 2,
       "version_minor": 0
      },
      "text/html": [
       "<p>Failed to display Jupyter Widget of type <code>Text</code>.</p>\n",
       "<p>\n",
       "  If you're reading this message in Jupyter Notebook or JupyterLab, it may mean\n",
       "  that the widgets JavaScript is still loading. If this message persists, it\n",
       "  likely means that the widgets JavaScript library is either not installed or\n",
       "  not enabled. See the <a href=\"https://ipywidgets.readthedocs.io/en/stable/user_install.html\">Jupyter\n",
       "  Widgets Documentation</a> for setup instructions.\n",
       "</p>\n",
       "<p>\n",
       "  If you're reading this message in another notebook frontend (for example, a static\n",
       "  rendering on GitHub or <a href=\"https://nbviewer.jupyter.org/\">NBViewer</a>),\n",
       "  it may mean that your frontend doesn't currently support widgets.\n",
       "</p>\n"
      ],
      "text/plain": [
       "Text(value='')"
      ]
     },
     "metadata": {},
     "output_type": "display_data"
    },
    {
     "name": "stdout",
     "output_type": "stream",
     "text": [
      "0 -0.86 0.1\n",
      "200 -0.04 0.1\n"
     ]
    },
    {
     "ename": "KeyboardInterrupt",
     "evalue": "",
     "output_type": "error",
     "traceback": [
      "\u001b[0;31m---------------------------------------------------------------------------\u001b[0m",
      "\u001b[0;31mKeyboardInterrupt\u001b[0m                         Traceback (most recent call last)",
      "\u001b[0;32m<ipython-input-61-772bf7e49137>\u001b[0m in \u001b[0;36m<module>\u001b[0;34m()\u001b[0m\n\u001b[1;32m     22\u001b[0m         \u001b[0mr\u001b[0m\u001b[0;34m=\u001b[0m\u001b[0;36m0\u001b[0m\u001b[0;34m\u001b[0m\u001b[0m\n\u001b[1;32m     23\u001b[0m \u001b[0;34m\u001b[0m\u001b[0m\n\u001b[0;32m---> 24\u001b[0;31m     \u001b[0mr\u001b[0m\u001b[0;34m+=\u001b[0m\u001b[0mQlearn\u001b[0m\u001b[0;34m(\u001b[0m\u001b[0;34m)\u001b[0m\u001b[0;34m\u001b[0m\u001b[0m\n\u001b[0m",
      "\u001b[0;32m<ipython-input-60-61ea54ebb6cf>\u001b[0m in \u001b[0;36mQlearn\u001b[0;34m(test, screen, T)\u001b[0m\n\u001b[1;32m     29\u001b[0m     \u001b[0mobservation\u001b[0m \u001b[0;34m=\u001b[0m \u001b[0menv\u001b[0m\u001b[0;34m.\u001b[0m\u001b[0mreset\u001b[0m\u001b[0;34m(\u001b[0m\u001b[0;34m)\u001b[0m\u001b[0;34m\u001b[0m\u001b[0m\n\u001b[1;32m     30\u001b[0m     \u001b[0;32mfor\u001b[0m \u001b[0mi\u001b[0m \u001b[0;32min\u001b[0m \u001b[0mrange\u001b[0m\u001b[0;34m(\u001b[0m\u001b[0;36m50\u001b[0m\u001b[0;34m)\u001b[0m\u001b[0;34m:\u001b[0m\u001b[0;34m\u001b[0m\u001b[0m\n\u001b[0;32m---> 31\u001b[0;31m         \u001b[0mobservation\u001b[0m\u001b[0;34m,\u001b[0m \u001b[0mreward\u001b[0m\u001b[0;34m,\u001b[0m \u001b[0mdone\u001b[0m\u001b[0;34m,\u001b[0m \u001b[0minfo\u001b[0m \u001b[0;34m=\u001b[0m\u001b[0menv\u001b[0m\u001b[0;34m.\u001b[0m\u001b[0mstep\u001b[0m\u001b[0;34m(\u001b[0m\u001b[0mchoice\u001b[0m\u001b[0;34m(\u001b[0m\u001b[0mactions\u001b[0m\u001b[0;34m)\u001b[0m\u001b[0;34m)\u001b[0m\u001b[0;34m\u001b[0m\u001b[0m\n\u001b[0m\u001b[1;32m     32\u001b[0m     \u001b[0ms2\u001b[0m \u001b[0;34m=\u001b[0m \u001b[0mcompute_s\u001b[0m\u001b[0;34m(\u001b[0m\u001b[0mobservation\u001b[0m\u001b[0;34m)\u001b[0m\u001b[0;34m\u001b[0m\u001b[0m\n\u001b[1;32m     33\u001b[0m     \u001b[0mtotal_r\u001b[0m \u001b[0;34m=\u001b[0m \u001b[0;36m0\u001b[0m\u001b[0;34m\u001b[0m\u001b[0m\n",
      "\u001b[0;32m~/src/gym/gym/core.py\u001b[0m in \u001b[0;36mstep\u001b[0;34m(self, action)\u001b[0m\n\u001b[1;32m     94\u001b[0m             \u001b[0minfo\u001b[0m \u001b[0;34m(\u001b[0m\u001b[0mdict\u001b[0m\u001b[0;34m)\u001b[0m\u001b[0;34m:\u001b[0m \u001b[0mcontains\u001b[0m \u001b[0mauxiliary\u001b[0m \u001b[0mdiagnostic\u001b[0m \u001b[0minformation\u001b[0m \u001b[0;34m(\u001b[0m\u001b[0mhelpful\u001b[0m \u001b[0;32mfor\u001b[0m \u001b[0mdebugging\u001b[0m\u001b[0;34m,\u001b[0m \u001b[0;32mand\u001b[0m \u001b[0msometimes\u001b[0m \u001b[0mlearning\u001b[0m\u001b[0;34m)\u001b[0m\u001b[0;34m\u001b[0m\u001b[0m\n\u001b[1;32m     95\u001b[0m         \"\"\"\n\u001b[0;32m---> 96\u001b[0;31m         \u001b[0;32mreturn\u001b[0m \u001b[0mself\u001b[0m\u001b[0;34m.\u001b[0m\u001b[0m_step\u001b[0m\u001b[0;34m(\u001b[0m\u001b[0maction\u001b[0m\u001b[0;34m)\u001b[0m\u001b[0;34m\u001b[0m\u001b[0m\n\u001b[0m\u001b[1;32m     97\u001b[0m \u001b[0;34m\u001b[0m\u001b[0m\n\u001b[1;32m     98\u001b[0m     \u001b[0;32mdef\u001b[0m \u001b[0mreset\u001b[0m\u001b[0;34m(\u001b[0m\u001b[0mself\u001b[0m\u001b[0;34m)\u001b[0m\u001b[0;34m:\u001b[0m\u001b[0;34m\u001b[0m\u001b[0m\n",
      "\u001b[0;32m~/src/gym/gym/wrappers/time_limit.py\u001b[0m in \u001b[0;36m_step\u001b[0;34m(self, action)\u001b[0m\n\u001b[1;32m     34\u001b[0m     \u001b[0;32mdef\u001b[0m \u001b[0m_step\u001b[0m\u001b[0;34m(\u001b[0m\u001b[0mself\u001b[0m\u001b[0;34m,\u001b[0m \u001b[0maction\u001b[0m\u001b[0;34m)\u001b[0m\u001b[0;34m:\u001b[0m\u001b[0;34m\u001b[0m\u001b[0m\n\u001b[1;32m     35\u001b[0m         \u001b[0;32massert\u001b[0m \u001b[0mself\u001b[0m\u001b[0;34m.\u001b[0m\u001b[0m_episode_started_at\u001b[0m \u001b[0;32mis\u001b[0m \u001b[0;32mnot\u001b[0m \u001b[0;32mNone\u001b[0m\u001b[0;34m,\u001b[0m \u001b[0;34m\"Cannot call env.step() before calling reset()\"\u001b[0m\u001b[0;34m\u001b[0m\u001b[0m\n\u001b[0;32m---> 36\u001b[0;31m         \u001b[0mobservation\u001b[0m\u001b[0;34m,\u001b[0m \u001b[0mreward\u001b[0m\u001b[0;34m,\u001b[0m \u001b[0mdone\u001b[0m\u001b[0;34m,\u001b[0m \u001b[0minfo\u001b[0m \u001b[0;34m=\u001b[0m \u001b[0mself\u001b[0m\u001b[0;34m.\u001b[0m\u001b[0menv\u001b[0m\u001b[0;34m.\u001b[0m\u001b[0mstep\u001b[0m\u001b[0;34m(\u001b[0m\u001b[0maction\u001b[0m\u001b[0;34m)\u001b[0m\u001b[0;34m\u001b[0m\u001b[0m\n\u001b[0m\u001b[1;32m     37\u001b[0m         \u001b[0mself\u001b[0m\u001b[0;34m.\u001b[0m\u001b[0m_elapsed_steps\u001b[0m \u001b[0;34m+=\u001b[0m \u001b[0;36m1\u001b[0m\u001b[0;34m\u001b[0m\u001b[0m\n\u001b[1;32m     38\u001b[0m \u001b[0;34m\u001b[0m\u001b[0m\n",
      "\u001b[0;32m~/src/gym/gym/core.py\u001b[0m in \u001b[0;36mstep\u001b[0;34m(self, action)\u001b[0m\n\u001b[1;32m     94\u001b[0m             \u001b[0minfo\u001b[0m \u001b[0;34m(\u001b[0m\u001b[0mdict\u001b[0m\u001b[0;34m)\u001b[0m\u001b[0;34m:\u001b[0m \u001b[0mcontains\u001b[0m \u001b[0mauxiliary\u001b[0m \u001b[0mdiagnostic\u001b[0m \u001b[0minformation\u001b[0m \u001b[0;34m(\u001b[0m\u001b[0mhelpful\u001b[0m \u001b[0;32mfor\u001b[0m \u001b[0mdebugging\u001b[0m\u001b[0;34m,\u001b[0m \u001b[0;32mand\u001b[0m \u001b[0msometimes\u001b[0m \u001b[0mlearning\u001b[0m\u001b[0;34m)\u001b[0m\u001b[0;34m\u001b[0m\u001b[0m\n\u001b[1;32m     95\u001b[0m         \"\"\"\n\u001b[0;32m---> 96\u001b[0;31m         \u001b[0;32mreturn\u001b[0m \u001b[0mself\u001b[0m\u001b[0;34m.\u001b[0m\u001b[0m_step\u001b[0m\u001b[0;34m(\u001b[0m\u001b[0maction\u001b[0m\u001b[0;34m)\u001b[0m\u001b[0;34m\u001b[0m\u001b[0m\n\u001b[0m\u001b[1;32m     97\u001b[0m \u001b[0;34m\u001b[0m\u001b[0m\n\u001b[1;32m     98\u001b[0m     \u001b[0;32mdef\u001b[0m \u001b[0mreset\u001b[0m\u001b[0;34m(\u001b[0m\u001b[0mself\u001b[0m\u001b[0;34m)\u001b[0m\u001b[0;34m:\u001b[0m\u001b[0;34m\u001b[0m\u001b[0m\n",
      "\u001b[0;32m~/src/gym/gym/envs/atari/atari_env.py\u001b[0m in \u001b[0;36m_step\u001b[0;34m(self, a)\u001b[0m\n\u001b[1;32m     78\u001b[0m             \u001b[0mnum_steps\u001b[0m \u001b[0;34m=\u001b[0m \u001b[0mself\u001b[0m\u001b[0;34m.\u001b[0m\u001b[0mnp_random\u001b[0m\u001b[0;34m.\u001b[0m\u001b[0mrandint\u001b[0m\u001b[0;34m(\u001b[0m\u001b[0mself\u001b[0m\u001b[0;34m.\u001b[0m\u001b[0mframeskip\u001b[0m\u001b[0;34m[\u001b[0m\u001b[0;36m0\u001b[0m\u001b[0;34m]\u001b[0m\u001b[0;34m,\u001b[0m \u001b[0mself\u001b[0m\u001b[0;34m.\u001b[0m\u001b[0mframeskip\u001b[0m\u001b[0;34m[\u001b[0m\u001b[0;36m1\u001b[0m\u001b[0;34m]\u001b[0m\u001b[0;34m)\u001b[0m\u001b[0;34m\u001b[0m\u001b[0m\n\u001b[1;32m     79\u001b[0m         \u001b[0;32mfor\u001b[0m \u001b[0m_\u001b[0m \u001b[0;32min\u001b[0m \u001b[0mrange\u001b[0m\u001b[0;34m(\u001b[0m\u001b[0mnum_steps\u001b[0m\u001b[0;34m)\u001b[0m\u001b[0;34m:\u001b[0m\u001b[0;34m\u001b[0m\u001b[0m\n\u001b[0;32m---> 80\u001b[0;31m             \u001b[0mreward\u001b[0m \u001b[0;34m+=\u001b[0m \u001b[0mself\u001b[0m\u001b[0;34m.\u001b[0m\u001b[0male\u001b[0m\u001b[0;34m.\u001b[0m\u001b[0mact\u001b[0m\u001b[0;34m(\u001b[0m\u001b[0maction\u001b[0m\u001b[0;34m)\u001b[0m\u001b[0;34m\u001b[0m\u001b[0m\n\u001b[0m\u001b[1;32m     81\u001b[0m         \u001b[0mob\u001b[0m \u001b[0;34m=\u001b[0m \u001b[0mself\u001b[0m\u001b[0;34m.\u001b[0m\u001b[0m_get_obs\u001b[0m\u001b[0;34m(\u001b[0m\u001b[0;34m)\u001b[0m\u001b[0;34m\u001b[0m\u001b[0m\n\u001b[1;32m     82\u001b[0m \u001b[0;34m\u001b[0m\u001b[0m\n",
      "\u001b[0;32m/usr/local/lib/python3.5/dist-packages/atari_py/ale_python_interface.py\u001b[0m in \u001b[0;36mact\u001b[0;34m(self, action)\u001b[0m\n\u001b[1;32m    134\u001b[0m \u001b[0;34m\u001b[0m\u001b[0m\n\u001b[1;32m    135\u001b[0m     \u001b[0;32mdef\u001b[0m \u001b[0mact\u001b[0m\u001b[0;34m(\u001b[0m\u001b[0mself\u001b[0m\u001b[0;34m,\u001b[0m \u001b[0maction\u001b[0m\u001b[0;34m)\u001b[0m\u001b[0;34m:\u001b[0m\u001b[0;34m\u001b[0m\u001b[0m\n\u001b[0;32m--> 136\u001b[0;31m         \u001b[0;32mreturn\u001b[0m \u001b[0male_lib\u001b[0m\u001b[0;34m.\u001b[0m\u001b[0mact\u001b[0m\u001b[0;34m(\u001b[0m\u001b[0mself\u001b[0m\u001b[0;34m.\u001b[0m\u001b[0mobj\u001b[0m\u001b[0;34m,\u001b[0m \u001b[0mint\u001b[0m\u001b[0;34m(\u001b[0m\u001b[0maction\u001b[0m\u001b[0;34m)\u001b[0m\u001b[0;34m)\u001b[0m\u001b[0;34m\u001b[0m\u001b[0m\n\u001b[0m\u001b[1;32m    137\u001b[0m \u001b[0;34m\u001b[0m\u001b[0m\n\u001b[1;32m    138\u001b[0m     \u001b[0;32mdef\u001b[0m \u001b[0mgame_over\u001b[0m\u001b[0;34m(\u001b[0m\u001b[0mself\u001b[0m\u001b[0;34m)\u001b[0m\u001b[0;34m:\u001b[0m\u001b[0;34m\u001b[0m\u001b[0m\n",
      "\u001b[0;31mKeyboardInterrupt\u001b[0m: "
     ]
    },
    {
     "data": {
      "image/png": "[encoded data removed]",
      "text/plain": [
       "<matplotlib.figure.Figure at 0x7feeda1fcf98>"
      ]
     },
     "metadata": {},
     "output_type": "display_data"
    }
   ],
   "source": [
    "screen = W.Image()\n",
    "display(screen)\n",
    "txt =W.Text()\n",
    "display(txt)\n",
    "ϵ = .1\n",
    "α = 1e-2\n",
    "γ = 1\n",
    "r = -20\n",
    "for j in range(1001):\n",
    "    if j%20==0:\n",
    "        txt.value=\"j={} r={} {} \".format(j, r/20,  ϵ)\n",
    "        plt.clf()\n",
    "        plt.plot(Q[1:].max(axis=1))        \n",
    "        with BytesIO() as bio:\n",
    "            plt.savefig(bio)            \n",
    "            screen.value = bio.getvalue()\n",
    "        if j%200==0:\n",
    "            r=0\n",
    "            for i in range(50):\n",
    "                r+=Qlearn(test=True)\n",
    "            print(j, r/50, ϵ)\n",
    "        r=0\n",
    "\n",
    "    r+=Qlearn()\n"
   ]
  },
  {
   "cell_type": "code",
   "execution_count": 78,
   "metadata": {},
   "outputs": [],
   "source": [
    "from time import sleep\n",
    "from random import randint, random, shuffle, choice\n",
    "\n",
    "α = 1e-2\n",
    "γ = 0.9\n",
    "ϵ = .1\n",
    "\n",
    "Q=np.zeros((3, 100,3))\n",
    "actions = [0,2,3]\n",
    "last_a=0\n",
    "def compute_s(observation, a):\n",
    "    global last_a\n",
    "    a = max(0, a-1)\n",
    "    last_a, a0 = a, last_a\n",
    "    dx = (observation[58]+127)%256-127\n",
    "    if dx>=0:\n",
    "        return 0    \n",
    "    dy = (observation[56]+127)%256-127\n",
    "    x,y0 = observation[[49,54]]\n",
    "    y2 = observation[60]    \n",
    "    y = (int(y0 - (186-x)*dy/dx)-44)%(326)\n",
    "    if y>163:\n",
    "        y=326-y\n",
    "    y+=38\n",
    "    s = (y-y2)//2\n",
    "    if s<-49:\n",
    "        s=-49\n",
    "    elif s>49:\n",
    "        s=49\n",
    "    return a0, s+50\n",
    "\n",
    "def Qlearn(test=False, screen=None, T=40):\n",
    "    observation = env.reset()\n",
    "    for i in range(50):\n",
    "        a = choice(actions)\n",
    "        observation, reward, done, info =env.step(a)\n",
    "        s2 = compute_s(observation, a)\n",
    "    total_r = 0\n",
    "    for i in range(T):\n",
    "        s = s2\n",
    "        if not test and random()< ϵ:\n",
    "            a = choice(actions)\n",
    "        elif s==0:\n",
    "            a = choice(actions)\n",
    "        else:            \n",
    "            a = actions[np.argmax(Q[s])]\n",
    "        observation, reward, done, info = env.step(a)        \n",
    "        s2 = compute_s(observation, a)\n",
    "        r = reward\n",
    "        total_r+=r\n",
    "        if not test and s!=0:\n",
    "            if s2==0:\n",
    "                r=1\n",
    "            a = max(0, a-1)\n",
    "            Q[s][a] += α*(r+γ*Q[s2].max() - Q[s][a])\n",
    "            #if r!=0:\n",
    "                #return total_r\n",
    "        if screen is not None:\n",
    "            img = env.render(mode='rgb_array')\n",
    "            screen.value = to_png(img)\n",
    "            sleep(1/60)\n",
    "    return total_r"
   ]
  },
  {
   "cell_type": "code",
   "execution_count": 79,
   "metadata": {
    "scrolled": false
   },
   "outputs": [
    {
     "data": {
      "application/vnd.jupyter.widget-view+json": {
       "model_id": "51bb62abe79845b3a798b6aeb30faf92",
       "version_major": 2,
       "version_minor": 0
      },
      "text/html": [
       "<p>Failed to display Jupyter Widget of type <code>Image</code>.</p>\n",
       "<p>\n",
       "  If you're reading this message in Jupyter Notebook or JupyterLab, it may mean\n",
       "  that the widgets JavaScript is still loading. If this message persists, it\n",
       "  likely means that the widgets JavaScript library is either not installed or\n",
       "  not enabled. See the <a href=\"https://ipywidgets.readthedocs.io/en/stable/user_install.html\">Jupyter\n",
       "  Widgets Documentation</a> for setup instructions.\n",
       "</p>\n",
       "<p>\n",
       "  If you're reading this message in another notebook frontend (for example, a static\n",
       "  rendering on GitHub or <a href=\"https://nbviewer.jupyter.org/\">NBViewer</a>),\n",
       "  it may mean that your frontend doesn't currently support widgets.\n",
       "</p>\n"
      ],
      "text/plain": [
       "Image(value=b'')"
      ]
     },
     "metadata": {},
     "output_type": "display_data"
    },
    {
     "data": {
      "application/vnd.jupyter.widget-view+json": {
       "model_id": "dd1c18128242400c8983555d67002899",
       "version_major": 2,
       "version_minor": 0
      },
      "text/html": [
       "<p>Failed to display Jupyter Widget of type <code>Text</code>.</p>\n",
       "<p>\n",
       "  If you're reading this message in Jupyter Notebook or JupyterLab, it may mean\n",
       "  that the widgets JavaScript is still loading. If this message persists, it\n",
       "  likely means that the widgets JavaScript library is either not installed or\n",
       "  not enabled. See the <a href=\"https://ipywidgets.readthedocs.io/en/stable/user_install.html\">Jupyter\n",
       "  Widgets Documentation</a> for setup instructions.\n",
       "</p>\n",
       "<p>\n",
       "  If you're reading this message in another notebook frontend (for example, a static\n",
       "  rendering on GitHub or <a href=\"https://nbviewer.jupyter.org/\">NBViewer</a>),\n",
       "  it may mean that your frontend doesn't currently support widgets.\n",
       "</p>\n"
      ],
      "text/plain": [
       "Text(value='')"
      ]
     },
     "metadata": {},
     "output_type": "display_data"
    },
    {
     "name": "stdout",
     "output_type": "stream",
     "text": [
      "0 -20.9 3.1\n",
      "200 -9.75 0.4153369920596814\n",
      "400 -2.25 0.1\n",
      "600 -1.3 0.1\n",
      "800 -0.9 0.1\n",
      "1000 -0.75 0.1\n",
      "1200 0.1 0.1\n",
      "1400 -0.2 0.1\n",
      "1600 -1.85 0.1\n",
      "1800 -1.8 0.1\n",
      "2000 -1.45 0.1\n",
      "2200 -1.9 0.1\n",
      "2400 -2.2 0.1\n",
      "2600 -2.4 0.1\n",
      "2800 -2.1 0.1\n",
      "3000 -2.45 0.1\n",
      "3200 -2.4 0.1\n",
      "3400 -1.95 0.1\n",
      "3600 -1.4 0.1\n",
      "3800 -3.25 0.1\n",
      "4000 -3.4 0.1\n",
      "4200 -1.95 0.1\n",
      "4400 -2.1 0.1\n",
      "4600 -2.05 0.1\n",
      "4800 -2.25 0.1\n",
      "5000 -2.3 0.1\n",
      "5200 -2.25 0.1\n",
      "5400 -3.8 0.1\n",
      "5600 -3.8 0.1\n",
      "5800 -2.0 0.1\n",
      "6000 -1.55 0.1\n",
      "6200 -1.75 0.1\n",
      "6400 -2.1 0.1\n",
      "6600 -2.9 0.1\n",
      "6800 -2.55 0.1\n",
      "7000 -0.6 0.1\n",
      "7200 -2.2 0.1\n",
      "7400 -3.8 0.1\n",
      "7600 -2.05 0.1\n",
      "7800 -1.3 0.1\n",
      "8000 -2.0 0.1\n",
      "8200 -1.4 0.1\n",
      "8400 -2.3 0.1\n",
      "8600 -1.35 0.1\n",
      "8800 -2.2 0.1\n",
      "9000 -1.5 0.1\n",
      "9200 -2.15 0.1\n",
      "9400 -2.15 0.1\n",
      "9600 -2.7 0.1\n",
      "9800 -1.6 0.1\n",
      "10000 -2.85 0.1\n",
      "10200 -2.95 0.1\n",
      "10400 -2.1 0.1\n",
      "10600 -2.35 0.1\n",
      "10800 -3.2 0.1\n",
      "11000 -2.85 0.1\n",
      "11200 -3.05 0.1\n",
      "11400 -2.9 0.1\n",
      "11600 -2.65 0.1\n",
      "11800 -1.4 0.1\n",
      "12000 -1.75 0.1\n",
      "12200 -1.9 0.1\n",
      "12400 -1.75 0.1\n",
      "12600 -1.6 0.1\n",
      "12800 -1.15 0.1\n",
      "13000 -1.2 0.1\n",
      "13200 -1.75 0.1\n",
      "13400 -1.2 0.1\n",
      "13600 -1.3 0.1\n",
      "13800 -1.8 0.1\n",
      "14000 -1.65 0.1\n",
      "14200 -1.6 0.1\n",
      "14400 -0.85 0.1\n",
      "14600 -1.75 0.1\n",
      "14800 -1.8 0.1\n",
      "15000 -1.4 0.1\n",
      "15200 -1.95 0.1\n",
      "15400 -2.05 0.1\n",
      "15600 -1.75 0.1\n",
      "15800 -1.9 0.1\n",
      "16000 -1.65 0.1\n",
      "16200 -2.0 0.1\n",
      "16400 -1.4 0.1\n",
      "16600 -1.05 0.1\n",
      "16800 -0.45 0.1\n",
      "17000 -1.85 0.1\n",
      "17200 -0.85 0.1\n",
      "17400 -1.65 0.1\n",
      "17600 -1.95 0.1\n",
      "17800 -1.95 0.1\n",
      "18000 -2.8 0.1\n",
      "18200 -1.85 0.1\n",
      "18400 -1.85 0.1\n",
      "18600 -2.2 0.1\n",
      "18800 -2.2 0.1\n",
      "19000 -2.1 0.1\n",
      "19200 -2.75 0.1\n",
      "19400 -2.35 0.1\n",
      "19600 -1.95 0.1\n",
      "19800 -2.6 0.1\n",
      "20000 -1.6 0.1\n"
     ]
    },
    {
     "data": {
      "image/png": "[encoded data removed]",
      "text/plain": [
       "<matplotlib.figure.Figure at 0x7feed9c906d8>"
      ]
     },
     "metadata": {},
     "output_type": "display_data"
    }
   ],
   "source": [
    "screen = W.Image()\n",
    "display(screen)\n",
    "txt =W.Text()\n",
    "display(txt)\n",
    "ϵ = 3.1\n",
    "α = 1e-2\n",
    "γ = 1\n",
    "r = -20\n",
    "for j in range(20001):\n",
    "    if j%20==0:\n",
    "        txt.value=\"j={} r={} {} \".format(j, r/20,  ϵ)\n",
    "        plt.clf()\n",
    "        plt.plot(Q[0, 1:].max(axis=1))\n",
    "        plt.plot(Q[1, 1:].max(axis=1))\n",
    "        plt.plot(Q[2, 1:].max(axis=1))\n",
    "        with BytesIO() as bio:\n",
    "            plt.savefig(bio)            \n",
    "            screen.value = bio.getvalue()\n",
    "        if j%200==0:\n",
    "            r=0\n",
    "            for i in range(20):\n",
    "                r+=Qlearn(test=True, T=1400)\n",
    "            print(j, r/20, ϵ)\n",
    "        r=0\n",
    "\n",
    "    r+=Qlearn(T=1400)\n",
    "    ϵ = max(0.1, ϵ*0.99)\n"
   ]
  },
  {
   "cell_type": "code",
   "execution_count": 40,
   "metadata": {},
   "outputs": [],
   "source": [
    "%matplotlib inline\n",
    "from matplotlib import pyplot as plt"
   ]
  },
  {
   "cell_type": "code",
   "execution_count": 14,
   "metadata": {},
   "outputs": [
    {
     "data": {
      "application/vnd.jupyter.widget-view+json": {
       "model_id": "462a7c9f3fbd426a90f9c82cd6287059",
       "version_major": 2,
       "version_minor": 0
      },
      "text/html": [
       "<p>Failed to display Jupyter Widget of type <code>Image</code>.</p>\n",
       "<p>\n",
       "  If you're reading this message in Jupyter Notebook or JupyterLab, it may mean\n",
       "  that the widgets JavaScript is still loading. If this message persists, it\n",
       "  likely means that the widgets JavaScript library is either not installed or\n",
       "  not enabled. See the <a href=\"https://ipywidgets.readthedocs.io/en/stable/user_install.html\">Jupyter\n",
       "  Widgets Documentation</a> for setup instructions.\n",
       "</p>\n",
       "<p>\n",
       "  If you're reading this message in another notebook frontend (for example, a static\n",
       "  rendering on GitHub or <a href=\"https://nbviewer.jupyter.org/\">NBViewer</a>),\n",
       "  it may mean that your frontend doesn't currently support widgets.\n",
       "</p>\n"
      ],
      "text/plain": [
       "Image(value=b'')"
      ]
     },
     "metadata": {},
     "output_type": "display_data"
    },
    {
     "data": {
      "application/vnd.jupyter.widget-view+json": {
       "model_id": "f51f192f7c5249f7bfe0b00227a52338",
       "version_major": 2,
       "version_minor": 0
      },
      "text/html": [
       "<p>Failed to display Jupyter Widget of type <code>Text</code>.</p>\n",
       "<p>\n",
       "  If you're reading this message in Jupyter Notebook or JupyterLab, it may mean\n",
       "  that the widgets JavaScript is still loading. If this message persists, it\n",
       "  likely means that the widgets JavaScript library is either not installed or\n",
       "  not enabled. See the <a href=\"https://ipywidgets.readthedocs.io/en/stable/user_install.html\">Jupyter\n",
       "  Widgets Documentation</a> for setup instructions.\n",
       "</p>\n",
       "<p>\n",
       "  If you're reading this message in another notebook frontend (for example, a static\n",
       "  rendering on GitHub or <a href=\"https://nbviewer.jupyter.org/\">NBViewer</a>),\n",
       "  it may mean that your frontend doesn't currently support widgets.\n",
       "</p>\n"
      ],
      "text/plain": [
       "Text(value='')"
      ]
     },
     "metadata": {},
     "output_type": "display_data"
    },
    {
     "name": "stdout",
     "output_type": "stream",
     "text": [
      "0 -0.8 0.1\n",
      "200 -0.46 0.1\n",
      "400 -0.2 0.1\n",
      "600 -0.1 0.1\n",
      "800 -0.06 0.1\n",
      "1000 -0.14 0.1\n"
     ]
    },
    {
     "data": {
      "image/png": "[encoded data removed]",
      "text/plain": [
       "<matplotlib.figure.Figure at 0x7fef14d241d0>"
      ]
     },
     "metadata": {},
     "output_type": "display_data"
    }
   ],
   "source": [
    "screen = W.Image()\n",
    "display(screen)\n",
    "txt =W.Text()\n",
    "display(txt)\n",
    "ϵ = .1\n",
    "α = 1e-2\n",
    "γ = 1\n",
    "r = -20\n",
    "for j in range(1001):\n",
    "    if j%20==0:\n",
    "        txt.value=\"j={} r={} {} \".format(j, r/20,  ϵ)\n",
    "        plt.clf()\n",
    "        plt.plot(Q[1:].max(axis=1))\n",
    "        with BytesIO() as bio:\n",
    "            plt.savefig(bio)            \n",
    "            screen.value = bio.getvalue()\n",
    "        if j%200==0:\n",
    "            r=0\n",
    "            for i in range(50):\n",
    "                r+=Qlearn(test=True)\n",
    "            print(j, r/50, ϵ)\n",
    "        r=0\n",
    "\n",
    "    r+=Qlearn()\n"
   ]
  },
  {
   "cell_type": "markdown",
   "metadata": {},
   "source": [
    "### 測試一下"
   ]
  },
  {
   "cell_type": "code",
   "execution_count": 21,
   "metadata": {},
   "outputs": [
    {
     "data": {
      "application/vnd.jupyter.widget-view+json": {
       "model_id": "c6841ad576b04a6eb32199dc339e96ba",
       "version_major": 2,
       "version_minor": 0
      },
      "text/html": [
       "<p>Failed to display Jupyter Widget of type <code>Image</code>.</p>\n",
       "<p>\n",
       "  If you're reading this message in Jupyter Notebook or JupyterLab, it may mean\n",
       "  that the widgets JavaScript is still loading. If this message persists, it\n",
       "  likely means that the widgets JavaScript library is either not installed or\n",
       "  not enabled. See the <a href=\"https://ipywidgets.readthedocs.io/en/stable/user_install.html\">Jupyter\n",
       "  Widgets Documentation</a> for setup instructions.\n",
       "</p>\n",
       "<p>\n",
       "  If you're reading this message in another notebook frontend (for example, a static\n",
       "  rendering on GitHub or <a href=\"https://nbviewer.jupyter.org/\">NBViewer</a>),\n",
       "  it may mean that your frontend doesn't currently support widgets.\n",
       "</p>\n"
      ],
      "text/plain": [
       "Image(value=b'')"
      ]
     },
     "metadata": {},
     "output_type": "display_data"
    },
    {
     "data": {
      "text/plain": [
       "0.0"
      ]
     },
     "execution_count": 21,
     "metadata": {},
     "output_type": "execute_result"
    }
   ],
   "source": [
    "screen = W.Image()\n",
    "display(screen)\n",
    "Qlearn(test=True, screen=screen, T=40)"
   ]
  },
  {
   "cell_type": "markdown",
   "metadata": {},
   "source": [
    "### 多打幾球"
   ]
  },
  {
   "cell_type": "code",
   "execution_count": 72,
   "metadata": {},
   "outputs": [
    {
     "data": {
      "application/vnd.jupyter.widget-view+json": {
       "model_id": "d1528ea9c6424dbb945388baf7fa2ef3",
       "version_major": 2,
       "version_minor": 0
      },
      "text/html": [
       "<p>Failed to display Jupyter Widget of type <code>Image</code>.</p>\n",
       "<p>\n",
       "  If you're reading this message in Jupyter Notebook or JupyterLab, it may mean\n",
       "  that the widgets JavaScript is still loading. If this message persists, it\n",
       "  likely means that the widgets JavaScript library is either not installed or\n",
       "  not enabled. See the <a href=\"https://ipywidgets.readthedocs.io/en/stable/user_install.html\">Jupyter\n",
       "  Widgets Documentation</a> for setup instructions.\n",
       "</p>\n",
       "<p>\n",
       "  If you're reading this message in another notebook frontend (for example, a static\n",
       "  rendering on GitHub or <a href=\"https://nbviewer.jupyter.org/\">NBViewer</a>),\n",
       "  it may mean that your frontend doesn't currently support widgets.\n",
       "</p>\n"
      ],
      "text/plain": [
       "Image(value=b'')"
      ]
     },
     "metadata": {},
     "output_type": "display_data"
    },
    {
     "data": {
      "application/vnd.jupyter.widget-view+json": {
       "model_id": "b63bc296d4d34a6c832dbb77704ff21d",
       "version_major": 2,
       "version_minor": 0
      },
      "text/html": [
       "<p>Failed to display Jupyter Widget of type <code>Text</code>.</p>\n",
       "<p>\n",
       "  If you're reading this message in Jupyter Notebook or JupyterLab, it may mean\n",
       "  that the widgets JavaScript is still loading. If this message persists, it\n",
       "  likely means that the widgets JavaScript library is either not installed or\n",
       "  not enabled. See the <a href=\"https://ipywidgets.readthedocs.io/en/stable/user_install.html\">Jupyter\n",
       "  Widgets Documentation</a> for setup instructions.\n",
       "</p>\n",
       "<p>\n",
       "  If you're reading this message in another notebook frontend (for example, a static\n",
       "  rendering on GitHub or <a href=\"https://nbviewer.jupyter.org/\">NBViewer</a>),\n",
       "  it may mean that your frontend doesn't currently support widgets.\n",
       "</p>\n"
      ],
      "text/plain": [
       "Text(value='')"
      ]
     },
     "metadata": {},
     "output_type": "display_data"
    },
    {
     "name": "stdout",
     "output_type": "stream",
     "text": [
      "0 -7.1 0.1\n",
      "200 -2.5 0.1\n",
      "400 -0.85 0.1\n",
      "600 -1.2 0.1\n",
      "800 -0.2 0.1\n",
      "1000 -0.55 0.1\n",
      "1200 -0.8 0.1\n",
      "1400 -0.3 0.1\n",
      "1600 -0.65 0.1\n",
      "1800 -0.15 0.1\n",
      "2000 -0.55 0.1\n"
     ]
    },
    {
     "data": {
      "image/png": "[encoded data removed]",
      "text/plain": [
       "<matplotlib.figure.Figure at 0x7feed9b79390>"
      ]
     },
     "metadata": {},
     "output_type": "display_data"
    }
   ],
   "source": [
    "screen = W.Image()\n",
    "display(screen)\n",
    "txt =W.Text()\n",
    "display(txt)\n",
    "ϵ = .1\n",
    "α = 1e-2\n",
    "γ = 1\n",
    "for j in range(2001):\n",
    "    if j%10==0:\n",
    "        txt.value=\"j={} r={} {} \".format(j, r/10,  ϵ)\n",
    "        plt.clf()\n",
    "        plt.plot(Q[1:,0],'r')\n",
    "        plt.plot(Q[1:,1],'g')\n",
    "        plt.plot(Q[1:,2],'b')\n",
    "        with BytesIO() as bio:\n",
    "            plt.savefig(bio)            \n",
    "            screen.value = bio.getvalue()\n",
    "        if j%200==0:\n",
    "            r=0\n",
    "            for i in range(20):\n",
    "                r+=Qlearn(test=True, T=400)\n",
    "            print(j, r/20, ϵ)\n",
    "        r=0\n",
    "\n",
    "    r+=Qlearn(T=400)\n"
   ]
  },
  {
   "cell_type": "code",
   "execution_count": 73,
   "metadata": {},
   "outputs": [
    {
     "data": {
      "application/vnd.jupyter.widget-view+json": {
       "model_id": "c55703098a16418cacbc7066c1a661fc",
       "version_major": 2,
       "version_minor": 0
      },
      "text/html": [
       "<p>Failed to display Jupyter Widget of type <code>Image</code>.</p>\n",
       "<p>\n",
       "  If you're reading this message in Jupyter Notebook or JupyterLab, it may mean\n",
       "  that the widgets JavaScript is still loading. If this message persists, it\n",
       "  likely means that the widgets JavaScript library is either not installed or\n",
       "  not enabled. See the <a href=\"https://ipywidgets.readthedocs.io/en/stable/user_install.html\">Jupyter\n",
       "  Widgets Documentation</a> for setup instructions.\n",
       "</p>\n",
       "<p>\n",
       "  If you're reading this message in another notebook frontend (for example, a static\n",
       "  rendering on GitHub or <a href=\"https://nbviewer.jupyter.org/\">NBViewer</a>),\n",
       "  it may mean that your frontend doesn't currently support widgets.\n",
       "</p>\n"
      ],
      "text/plain": [
       "Image(value=b'')"
      ]
     },
     "metadata": {},
     "output_type": "display_data"
    },
    {
     "data": {
      "text/plain": [
       "-1.0"
      ]
     },
     "execution_count": 73,
     "metadata": {},
     "output_type": "execute_result"
    }
   ],
   "source": [
    "# 測試一下\n",
    "screen = W.Image()\n",
    "display(screen)\n",
    "Qlearn(test=True, screen=screen, T=400)"
   ]
  },
  {
   "cell_type": "markdown",
   "metadata": {},
   "source": [
    "直接用原來的狀態，會有比較大的 state space\n",
    "\n",
    "狀態太大，要花比較久的時間學習\n"
   ]
  },
  {
   "cell_type": "code",
   "execution_count": 30,
   "metadata": {},
   "outputs": [],
   "source": [
    "from time import sleep\n",
    "from random import randint, random, shuffle, choice\n",
    "\n",
    "α = 1e-2\n",
    "γ = 1\n",
    "ϵ = .1\n",
    "\n",
    "# x y0 y2 dy, a\n",
    "Q=np.zeros((105, 105, 105, 20, 3))\n",
    "actions = [0,2,3]\n",
    "def compute_s(observation):\n",
    "    dx = (observation[58]+127)%256-127\n",
    "    if dx>=0:\n",
    "        return None\n",
    "    dy = (observation[56]+127)%256-127\n",
    "    x,y0 = observation[[49,54]]\n",
    "    y2 = observation[60]\n",
    "    assert 0<=x<210\n",
    "    assert -9<=dy<=9\n",
    "    return (x//2,y0//2,y2//2,dy+9)\n",
    "\n",
    "def Qlearn2(test=False, screen=None, T=300):\n",
    "    observation = env.reset()\n",
    "    for i in range(50):\n",
    "        observation, reward, done, info =env.step(0)\n",
    "    s2 = compute_s(observation)\n",
    "    total_r = 0\n",
    "    for i in range(T):\n",
    "        s = s2\n",
    "        if not test and random()< ϵ:\n",
    "            a = choice(actions)\n",
    "        elif s is None:\n",
    "            a = choice(actions)\n",
    "        else:\n",
    "            try:\n",
    "                a = actions[np.argmax(Q[s])]\n",
    "            except:\n",
    "                print(s)\n",
    "        observation, reward, done, info = env.step(a)        \n",
    "        s2 = compute_s(observation)\n",
    "        r = reward\n",
    "        total_r+=r\n",
    "        if not test and s is not None:\n",
    "            if s2 is None:\n",
    "                r=1.\n",
    "            a = max(0, a-1)\n",
    "            Q[s][a] += α*(r+γ*Q[s2].max() - Q[s][a])\n",
    "        if screen is not None:\n",
    "            img = env.render(mode='rgb_array')\n",
    "            screen.value = to_png(img)\n",
    "            sleep(1/60)\n",
    "    return total_r"
   ]
  },
  {
   "cell_type": "code",
   "execution_count": 32,
   "metadata": {
    "scrolled": false
   },
   "outputs": [
    {
     "data": {
      "application/vnd.jupyter.widget-view+json": {
       "model_id": "3234e1eb8130499f9f2dcc789ebda734",
       "version_major": 2,
       "version_minor": 0
      },
      "text/html": [
       "<p>Failed to display Jupyter Widget of type <code>Image</code>.</p>\n",
       "<p>\n",
       "  If you're reading this message in Jupyter Notebook or JupyterLab, it may mean\n",
       "  that the widgets JavaScript is still loading. If this message persists, it\n",
       "  likely means that the widgets JavaScript library is either not installed or\n",
       "  not enabled. See the <a href=\"https://ipywidgets.readthedocs.io/en/stable/user_install.html\">Jupyter\n",
       "  Widgets Documentation</a> for setup instructions.\n",
       "</p>\n",
       "<p>\n",
       "  If you're reading this message in another notebook frontend (for example, a static\n",
       "  rendering on GitHub or <a href=\"https://nbviewer.jupyter.org/\">NBViewer</a>),\n",
       "  it may mean that your frontend doesn't currently support widgets.\n",
       "</p>\n"
      ],
      "text/plain": [
       "Image(value=b'')"
      ]
     },
     "metadata": {},
     "output_type": "display_data"
    },
    {
     "data": {
      "application/vnd.jupyter.widget-view+json": {
       "model_id": "edd24b1f44ec4491beb2eda40c48176e",
       "version_major": 2,
       "version_minor": 0
      },
      "text/html": [
       "<p>Failed to display Jupyter Widget of type <code>Text</code>.</p>\n",
       "<p>\n",
       "  If you're reading this message in Jupyter Notebook or JupyterLab, it may mean\n",
       "  that the widgets JavaScript is still loading. If this message persists, it\n",
       "  likely means that the widgets JavaScript library is either not installed or\n",
       "  not enabled. See the <a href=\"https://ipywidgets.readthedocs.io/en/stable/user_install.html\">Jupyter\n",
       "  Widgets Documentation</a> for setup instructions.\n",
       "</p>\n",
       "<p>\n",
       "  If you're reading this message in another notebook frontend (for example, a static\n",
       "  rendering on GitHub or <a href=\"https://nbviewer.jupyter.org/\">NBViewer</a>),\n",
       "  it may mean that your frontend doesn't currently support widgets.\n",
       "</p>\n"
      ],
      "text/plain": [
       "Text(value='')"
      ]
     },
     "metadata": {},
     "output_type": "display_data"
    },
    {
     "name": "stdout",
     "output_type": "stream",
     "text": [
      "99 -6.7\n",
      "199 -6.0\n",
      "299 -4.9\n",
      "399 -5.5\n",
      "499 -5.2\n",
      "599 -4.9\n",
      "699 -5.3\n",
      "799 -4.7\n",
      "899 -3.8\n",
      "999 -3.2\n",
      "1099 -3.6\n",
      "1199 -3.2\n",
      "1299 -3.0\n",
      "1399 -2.5\n",
      "1499 -2.5\n",
      "1599 -3.2\n",
      "1699 -3.5\n",
      "1799 -2.8\n",
      "1899 -2.7\n",
      "1999 -3.2\n",
      "2099 -3.3\n",
      "2199 -3.6\n",
      "2299 -3.1\n",
      "2399 -2.5\n",
      "2499 -3.3\n",
      "2599 -2.7\n",
      "2699 -2.2\n",
      "2799 -2.5\n",
      "2899 -3.3\n",
      "2999 -2.7\n",
      "3099 -3.0\n",
      "3199 -2.4\n",
      "3299 -3.1\n",
      "3399 -2.8\n",
      "3499 -2.6\n",
      "3599 -2.8\n",
      "3699 -2.2\n",
      "3799 -2.9\n",
      "3899 -2.7\n",
      "3999 -1.6\n",
      "4099 -2.4\n",
      "4199 -2.6\n",
      "4299 -2.4\n",
      "4399 -2.8\n",
      "4499 -2.8\n",
      "4599 -2.7\n",
      "4699 -3.0\n",
      "4799 -2.4\n",
      "4899 -2.7\n",
      "4999 -2.3\n",
      "5099 -2.9\n",
      "5199 -2.2\n",
      "5299 -2.2\n",
      "5399 -2.7\n",
      "5499 -2.4\n",
      "5599 -2.6\n",
      "5699 -2.7\n",
      "5799 -1.9\n",
      "5899 -2.7\n",
      "5999 -2.3\n",
      "6099 -2.8\n",
      "6199 -2.7\n",
      "6299 -2.4\n",
      "6399 -2.3\n",
      "6499 -3.1\n",
      "6599 -2.9\n",
      "6699 -3.4\n",
      "6799 -2.5\n",
      "6899 -2.8\n",
      "6999 -2.2\n",
      "7099 -3.2\n",
      "7199 -2.8\n",
      "7299 -2.5\n",
      "7399 -2.0\n",
      "7499 -2.2\n",
      "7599 -1.8\n",
      "7699 -3.2\n",
      "7799 -2.4\n",
      "7899 -3.0\n",
      "7999 -1.7\n",
      "8099 -3.1\n",
      "8199 -2.2\n",
      "8299 -2.2\n",
      "8399 -3.1\n",
      "8499 -2.7\n",
      "8599 -2.8\n",
      "8699 -3.1\n",
      "8799 -2.5\n",
      "8899 -2.4\n",
      "8999 -1.9\n",
      "9099 -2.1\n",
      "9199 -2.7\n",
      "9299 -2.4\n",
      "9399 -3.0\n",
      "9499 -2.3\n",
      "9599 -2.6\n",
      "9699 -2.8\n",
      "9799 -3.0\n",
      "9899 -2.5\n",
      "9999 -2.7\n",
      "10099 -2.2\n",
      "10199 -2.7\n",
      "10299 -2.6\n",
      "10399 -2.2\n",
      "10499 -1.7\n",
      "10599 -2.2\n",
      "10699 -2.8\n",
      "10799 -2.7\n",
      "10899 -2.3\n",
      "10999 -1.9\n",
      "11099 -2.2\n",
      "11199 -1.9\n",
      "11299 -2.7\n",
      "11399 -1.7\n",
      "11499 -2.1\n",
      "11599 -2.1\n",
      "11699 -2.3\n",
      "11799 -1.4\n",
      "11899 -2.0\n",
      "11999 -2.1\n",
      "12099 -2.3\n",
      "12199 -2.5\n",
      "12299 -2.3\n",
      "12399 -1.9\n",
      "12499 -2.1\n",
      "12599 -2.6\n",
      "12699 -1.8\n",
      "12799 -2.6\n",
      "12899 -3.2\n",
      "12999 -2.5\n",
      "13099 -2.1\n",
      "13199 -2.4\n",
      "13299 -3.3\n",
      "13399 -2.9\n",
      "13499 -2.4\n",
      "13599 -2.5\n",
      "13699 -1.9\n",
      "13799 -2.6\n",
      "13899 -1.3\n",
      "13999 -2.7\n",
      "14099 -2.7\n",
      "14199 -2.2\n",
      "14299 -2.5\n",
      "14399 -2.9\n",
      "14499 -1.9\n",
      "14599 -2.5\n",
      "14699 -2.2\n",
      "14799 -2.8\n",
      "14899 -3.0\n",
      "14999 -2.1\n",
      "15099 -1.9\n",
      "15199 -2.5\n",
      "15299 -2.7\n",
      "15399 -2.7\n",
      "15499 -1.8\n",
      "15599 -2.1\n",
      "15699 -1.8\n",
      "15799 -2.0\n",
      "15899 -2.3\n",
      "15999 -2.4\n",
      "16099 -2.6\n",
      "16199 -3.1\n",
      "16299 -2.0\n",
      "16399 -2.2\n",
      "16499 -2.1\n",
      "16599 -1.8\n",
      "16699 -2.0\n",
      "16799 -2.6\n",
      "16899 -1.4\n",
      "16999 -2.3\n",
      "17099 -2.4\n",
      "17199 -2.1\n",
      "17299 -2.3\n",
      "17399 -2.2\n",
      "17499 -1.5\n",
      "17599 -2.0\n",
      "17699 -1.4\n",
      "17799 -1.9\n",
      "17899 -2.5\n",
      "17999 -2.8\n",
      "18099 -2.7\n",
      "18199 -2.1\n",
      "18299 -2.2\n",
      "18399 -1.9\n",
      "18499 -1.9\n",
      "18599 -2.0\n",
      "18699 -2.2\n",
      "18799 -2.1\n",
      "18899 -1.5\n",
      "18999 -2.6\n",
      "19099 -2.0\n",
      "19199 -2.2\n",
      "19299 -1.6\n",
      "19399 -1.9\n",
      "19499 -2.7\n",
      "19599 -2.2\n",
      "19699 -1.4\n",
      "19799 -1.5\n",
      "19899 -1.7\n",
      "19999 -2.5\n"
     ]
    },
    {
     "data": {
      "image/png": "[encoded data removed]",
      "text/plain": [
       "<matplotlib.figure.Figure at 0x7feeda063780>"
      ]
     },
     "metadata": {},
     "output_type": "display_data"
    }
   ],
   "source": [
    "screen = W.Image()\n",
    "display(screen)\n",
    "α = 1e-2\n",
    "γ = 1\n",
    "ϵ = .1\n",
    "txt =W.Text()\n",
    "display(txt)\n",
    "r = 0\n",
    "rr= -8\n",
    "rate = []\n",
    "for j in range(20001):\n",
    "    if j%100==99:\n",
    "        r=0\n",
    "        for i in range(10):\n",
    "            r+=Qlearn2(test=True, T=400)\n",
    "        print(j, r/10)\n",
    "    rr = rr*0.9 + 0.1*Qlearn2(T=400)\n",
    "    rate.append(rr)\n",
    "    txt.value=\"j={} r={}\".format(j,rr)\n",
    "    plt.clf()\n",
    "    plt.plot(rate)\n",
    "    with BytesIO() as bio:\n",
    "        plt.savefig(bio)\n",
    "        screen.value = bio.getvalue()\n"
   ]
  },
  {
   "cell_type": "code",
   "execution_count": 35,
   "metadata": {},
   "outputs": [
    {
     "data": {
      "application/vnd.jupyter.widget-view+json": {
       "model_id": "3de8a8825b854776bf66b17f7adec994",
       "version_major": 2,
       "version_minor": 0
      },
      "text/html": [
       "<p>Failed to display Jupyter Widget of type <code>Image</code>.</p>\n",
       "<p>\n",
       "  If you're reading this message in Jupyter Notebook or JupyterLab, it may mean\n",
       "  that the widgets JavaScript is still loading. If this message persists, it\n",
       "  likely means that the widgets JavaScript library is either not installed or\n",
       "  not enabled. See the <a href=\"https://ipywidgets.readthedocs.io/en/stable/user_install.html\">Jupyter\n",
       "  Widgets Documentation</a> for setup instructions.\n",
       "</p>\n",
       "<p>\n",
       "  If you're reading this message in another notebook frontend (for example, a static\n",
       "  rendering on GitHub or <a href=\"https://nbviewer.jupyter.org/\">NBViewer</a>),\n",
       "  it may mean that your frontend doesn't currently support widgets.\n",
       "</p>\n"
      ],
      "text/plain": [
       "Image(value=b'')"
      ]
     },
     "metadata": {},
     "output_type": "display_data"
    },
    {
     "data": {
      "text/plain": [
       "-1.0"
      ]
     },
     "execution_count": 35,
     "metadata": {},
     "output_type": "execute_result"
    }
   ],
   "source": [
    "# 測試\n",
    "screen = W.Image()\n",
    "display(screen)\n",
    "Qlearn2(test=True, screen=screen, T=400)"
   ]
  },
  {
   "cell_type": "code",
   "execution_count": null,
   "metadata": {},
   "outputs": [],
   "source": []
  }
 ],
 "metadata": {
  "kernelspec": {
   "display_name": "Python 3",
   "language": "python",
   "name": "python3"
  },
  "language_info": {
   "codemirror_mode": {
    "name": "ipython",
    "version": 3
   },
   "file_extension": ".py",
   "mimetype": "text/x-python",
   "name": "python",
   "nbconvert_exporter": "python",
   "pygments_lexer": "ipython3",
   "version": "3.5.3"
  }
 },
 "nbformat": 4,
 "nbformat_minor": 2
}
