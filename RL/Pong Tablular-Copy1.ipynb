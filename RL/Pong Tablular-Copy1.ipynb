{
 "cells": [
  {
   "cell_type": "code",
   "execution_count": 1,
   "metadata": {},
   "outputs": [],
   "source": [
    "import gym"
   ]
  },
  {
   "cell_type": "code",
   "execution_count": 2,
   "metadata": {},
   "outputs": [
    {
     "name": "stderr",
     "output_type": "stream",
     "text": [
      "[2017-10-22 23:40:59,240] Making new env: Pong-ram-v0\n"
     ]
    }
   ],
   "source": [
    "env = gym.make('Pong-ram-v0')"
   ]
  },
  {
   "cell_type": "code",
   "execution_count": 3,
   "metadata": {},
   "outputs": [],
   "source": [
    "import numpy as np\n",
    "import ipywidgets as W\n",
    "from PIL import Image"
   ]
  },
  {
   "cell_type": "code",
   "execution_count": 4,
   "metadata": {},
   "outputs": [
    {
     "data": {
      "text/plain": [
       "Discrete(6)"
      ]
     },
     "execution_count": 4,
     "metadata": {},
     "output_type": "execute_result"
    }
   ],
   "source": [
    "env.action_space"
   ]
  },
  {
   "cell_type": "code",
   "execution_count": 5,
   "metadata": {},
   "outputs": [
    {
     "data": {
      "text/plain": [
       "(-inf, inf)"
      ]
     },
     "execution_count": 5,
     "metadata": {},
     "output_type": "execute_result"
    }
   ],
   "source": [
    "env.reward_range"
   ]
  },
  {
   "cell_type": "code",
   "execution_count": 6,
   "metadata": {},
   "outputs": [
    {
     "data": {
      "text/plain": [
       "array([192,   0,   0,   0, 110,  38,   0,   7,  63,   1,  60,  59,   0,\n",
       "         0,   0,  62, 255,   0, 255, 253,   0,   8,   0,  24, 128,  32,\n",
       "         1,  86, 247,  86, 247,  86, 247, 134, 243, 245, 243, 240, 240,\n",
       "       242, 242,  32,  32,  64,  64,  64, 188,  65, 189,   0,   8, 109,\n",
       "        37,  37,  60,   0,   0,   0,   0, 109, 109,  37,  37, 192, 192,\n",
       "       192, 192,   1, 192, 202, 247, 202, 247, 202, 247, 202, 247,   0,\n",
       "         0,   0,   0,   0,   0,   0,   0,   0,   0,   0,   0,   0,   0,\n",
       "         0,   0,   0,   0,   0,   0,   0,   0,   0,   0,   0,   0,   0,\n",
       "         0,   0,   0,   0,   0,   0,   0,   0,   0,   0,   0,   0,   0,\n",
       "         0,   0,   0,   0,   0,   0,  54, 236, 242, 121, 240], dtype=uint8)"
      ]
     },
     "execution_count": 6,
     "metadata": {},
     "output_type": "execute_result"
    }
   ],
   "source": [
    "env.reset()"
   ]
  },
  {
   "cell_type": "code",
   "execution_count": 7,
   "metadata": {},
   "outputs": [
    {
     "data": {
      "image/png": "[encoded data removed]",
      "text/plain": [
       "<PIL.Image.Image image mode=RGB size=160x210 at 0x7F19F9D3A2E8>"
      ]
     },
     "execution_count": 7,
     "metadata": {},
     "output_type": "execute_result"
    }
   ],
   "source": [
    "Image.fromarray(env.render(mode='rgb_array'))"
   ]
  },
  {
   "cell_type": "code",
   "execution_count": 8,
   "metadata": {},
   "outputs": [],
   "source": [
    "from io import BytesIO\n",
    "def to_png(a):\n",
    "    with BytesIO() as bio:\n",
    "        Image.fromarray(a).save(bio, 'png')\n",
    "        return bio.getvalue()"
   ]
  },
  {
   "cell_type": "markdown",
   "metadata": {},
   "source": [
    "觀察"
   ]
  },
  {
   "cell_type": "code",
   "execution_count": 9,
   "metadata": {},
   "outputs": [
    {
     "data": {
      "application/vnd.jupyter.widget-view+json": {
       "model_id": "8113db913c5f4bcda708987c3cf12d16",
       "version_major": 2,
       "version_minor": 0
      },
      "text/html": [
       "<p>Failed to display Jupyter Widget of type <code>HBox</code>.</p>\n",
       "<p>\n",
       "  If you're reading this message in Jupyter Notebook or JupyterLab, it may mean\n",
       "  that the widgets JavaScript is still loading. If this message persists, it\n",
       "  likely means that the widgets JavaScript library is either not installed or\n",
       "  not enabled. See the <a href=\"https://ipywidgets.readthedocs.io/en/stable/user_install.html\">Jupyter\n",
       "  Widgets Documentation</a> for setup instructions.\n",
       "</p>\n",
       "<p>\n",
       "  If you're reading this message in another notebook frontend (for example, a static\n",
       "  rendering on GitHub or <a href=\"https://nbviewer.jupyter.org/\">NBViewer</a>),\n",
       "  it may mean that your frontend doesn't currently support widgets.\n",
       "</p>\n"
      ],
      "text/plain": [
       "HBox(children=(Image(value=b''), VBox(children=(Button(description='0', style=ButtonStyle()), Button(description='1', style=ButtonStyle()), Button(description='2', style=ButtonStyle()), Button(description='3', style=ButtonStyle()), Button(description='4', style=ButtonStyle()), Button(description='5', style=ButtonStyle()))), VBox(children=(Text(value=''), HTML(value='')))))"
      ]
     },
     "metadata": {},
     "output_type": "display_data"
    }
   ],
   "source": [
    "from functools import partial\n",
    "last_ob = None\n",
    "def pressed(a, x):\n",
    "    global last_ob\n",
    "    observation, reward, done, info = env.step(a)\n",
    "    img = env.render(mode='rgb_array')\n",
    "    screen.value = to_png(img)\n",
    "    txt.value = \"{} {} {} {:02x} {:02x} {:02x}\".format(reward, done, info, \n",
    "                                                       observation[49],observation[54], observation[60] )\n",
    "    h = \"<table>\"\n",
    "    for i in range(8):\n",
    "        h+=\"<tr>\"\n",
    "        for j in range(16):\n",
    "            color = 'black'\n",
    "            if last_ob is not None:\n",
    "                if last_ob[16*i+j]!=observation[16*i+j]:\n",
    "                    color='red'\n",
    "            h+=\"<td style='width: 2.5em;color: %s'>%02X</td>\"%(color, observation[16*i+j])\n",
    "        h+=\"</tr>\"\n",
    "    h+=\"</table\"\n",
    "    html.value=h\n",
    "    last_ob = observation.copy()\n",
    "buttons = [W.Button(description=str(i)) for i in range(6)]\n",
    "for i in range(6):\n",
    "    buttons[i].on_click(partial(pressed,i))\n",
    "txt = W.Text()\n",
    "screen = W.Image()\n",
    "html = W.HTML()\n",
    "display(W.HBox([screen, W.VBox(buttons), W.VBox([txt, html])]))\n",
    "env.reset();\n"
   ]
  },
  {
   "cell_type": "code",
   "execution_count": 10,
   "metadata": {},
   "outputs": [],
   "source": [
    "from PIL import ImageDraw"
   ]
  },
  {
   "cell_type": "code",
   "execution_count": 11,
   "metadata": {},
   "outputs": [
    {
     "data": {
      "application/vnd.jupyter.widget-view+json": {
       "model_id": "ed3cf06b4bad4faeb0c118eff49e627a",
       "version_major": 2,
       "version_minor": 0
      },
      "text/html": [
       "<p>Failed to display Jupyter Widget of type <code>Image</code>.</p>\n",
       "<p>\n",
       "  If you're reading this message in Jupyter Notebook or JupyterLab, it may mean\n",
       "  that the widgets JavaScript is still loading. If this message persists, it\n",
       "  likely means that the widgets JavaScript library is either not installed or\n",
       "  not enabled. See the <a href=\"https://ipywidgets.readthedocs.io/en/stable/user_install.html\">Jupyter\n",
       "  Widgets Documentation</a> for setup instructions.\n",
       "</p>\n",
       "<p>\n",
       "  If you're reading this message in another notebook frontend (for example, a static\n",
       "  rendering on GitHub or <a href=\"https://nbviewer.jupyter.org/\">NBViewer</a>),\n",
       "  it may mean that your frontend doesn't currently support widgets.\n",
       "</p>\n"
      ],
      "text/plain": [
       "Image(value=b'')"
      ]
     },
     "metadata": {},
     "output_type": "display_data"
    }
   ],
   "source": [
    "from time import sleep\n",
    "screen = W.Image()\n",
    "display(screen)\n",
    "observation = env.reset()\n",
    "wait = 0\n",
    "for i in range(50):\n",
    "    env.step(0)\n",
    "for i in range(2000):\n",
    "    x,y0 = observation[[49,54]]\n",
    "    y2 = observation[60]\n",
    "    dy = (observation[56]+127)%256-127\n",
    "    dx = (observation[58]+127)%256-127\n",
    "    if dx < 0:\n",
    "        y = (int(y0 - (186-x)*dy/dx)-44)%(326)\n",
    "        if y>163:\n",
    "            y=326-y\n",
    "        y+=38\n",
    "    else:\n",
    "        y=115\n",
    "    if y2<y-3:\n",
    "        if 40<y-y2 or wait<=0:\n",
    "            a = 3\n",
    "            wait=(40-(y-y2))//8\n",
    "        else:\n",
    "            wait-=1\n",
    "            a=0\n",
    "    elif y2 > y+3:\n",
    "        if y2-y>40 or wait<=0:\n",
    "            a = 2\n",
    "            wait=(40-(y2-y))//8\n",
    "        else:\n",
    "            wait-=1\n",
    "            a = 0\n",
    "    else:\n",
    "        a = 0\n",
    "        wait =0\n",
    "    observation, reward, done, info = env.step(a)\n",
    "    img = env.render(mode='rgb_array')\n",
    "    screen.value = to_png(img)\n",
    "    sleep(1/60)"
   ]
  },
  {
   "cell_type": "code",
   "execution_count": 194,
   "metadata": {},
   "outputs": [],
   "source": [
    "from time import sleep\n",
    "from random import randint, random, shuffle, choice\n",
    "\n",
    "α = 3e-2\n",
    "γ = 0.9\n",
    "ϵ = .1\n",
    "\n",
    "Q=np.zeros((100,3))\n",
    "actions = [0,2,3]\n",
    "def compute_s(observation):\n",
    "    dx = (observation[58]+127)%256-127\n",
    "    if dx>=0:\n",
    "        return 0\n",
    "    dy = (observation[56]+127)%256-127\n",
    "    x,y0 = observation[[49,54]]\n",
    "    y2 = observation[60]    \n",
    "    y = (int(y0 - (186-x)*dy/dx)-44)%(326)\n",
    "    if y>163:\n",
    "        y=326-y\n",
    "    y+=38\n",
    "    s = (y-y2)//2\n",
    "    if s<-49:\n",
    "        s=-49\n",
    "    elif s>49:\n",
    "        s=49\n",
    "    return s+50\n",
    "\n",
    "def Qlearn(test=False, screen=None, T=40):\n",
    "    observation = env.reset()\n",
    "    for i in range(50):\n",
    "        observation, reward, done, info =env.step(0)\n",
    "    s2 = compute_s(observation)\n",
    "    total_r = 0\n",
    "    for i in range(T):\n",
    "        s = s2\n",
    "        if not test and random()< ϵ:\n",
    "            a = choice(actions)\n",
    "        else:\n",
    "            a = actions[np.argmax(Q[s])]\n",
    "        observation, reward, done, info = env.step(a)        \n",
    "        s2 = compute_s(observation)\n",
    "        r = reward\n",
    "        total_r+=r\n",
    "        if not test and s!=0:\n",
    "            if s2==0:\n",
    "                r=1\n",
    "            a = max(0, a-1)\n",
    "            Q[s][a] += α*(r+γ*Q[s2].max() - Q[s][a])\n",
    "            #if r!=0:\n",
    "                #return total_r\n",
    "        if screen is not None:\n",
    "            img = env.render(mode='rgb_array')\n",
    "            screen.value = to_png(img)\n",
    "            sleep(1/60)\n",
    "    return total_r"
   ]
  },
  {
   "cell_type": "code",
   "execution_count": 195,
   "metadata": {},
   "outputs": [],
   "source": [
    "%matplotlib inline\n",
    "from matplotlib import pyplot as plt"
   ]
  },
  {
   "cell_type": "code",
   "execution_count": 176,
   "metadata": {
    "scrolled": false
   },
   "outputs": [
    {
     "data": {
      "application/vnd.jupyter.widget-view+json": {
       "model_id": "c88597d2908a4be38e0d888c060aa37b",
       "version_major": 2,
       "version_minor": 0
      },
      "text/html": [
       "<p>Failed to display Jupyter Widget of type <code>Image</code>.</p>\n",
       "<p>\n",
       "  If you're reading this message in Jupyter Notebook or JupyterLab, it may mean\n",
       "  that the widgets JavaScript is still loading. If this message persists, it\n",
       "  likely means that the widgets JavaScript library is either not installed or\n",
       "  not enabled. See the <a href=\"https://ipywidgets.readthedocs.io/en/stable/user_install.html\">Jupyter\n",
       "  Widgets Documentation</a> for setup instructions.\n",
       "</p>\n",
       "<p>\n",
       "  If you're reading this message in another notebook frontend (for example, a static\n",
       "  rendering on GitHub or <a href=\"https://nbviewer.jupyter.org/\">NBViewer</a>),\n",
       "  it may mean that your frontend doesn't currently support widgets.\n",
       "</p>\n"
      ],
      "text/plain": [
       "Image(value=b'')"
      ]
     },
     "metadata": {},
     "output_type": "display_data"
    },
    {
     "data": {
      "application/vnd.jupyter.widget-view+json": {
       "model_id": "c818c970a3c045688a98702a57ee300d",
       "version_major": 2,
       "version_minor": 0
      },
      "text/html": [
       "<p>Failed to display Jupyter Widget of type <code>Text</code>.</p>\n",
       "<p>\n",
       "  If you're reading this message in Jupyter Notebook or JupyterLab, it may mean\n",
       "  that the widgets JavaScript is still loading. If this message persists, it\n",
       "  likely means that the widgets JavaScript library is either not installed or\n",
       "  not enabled. See the <a href=\"https://ipywidgets.readthedocs.io/en/stable/user_install.html\">Jupyter\n",
       "  Widgets Documentation</a> for setup instructions.\n",
       "</p>\n",
       "<p>\n",
       "  If you're reading this message in another notebook frontend (for example, a static\n",
       "  rendering on GitHub or <a href=\"https://nbviewer.jupyter.org/\">NBViewer</a>),\n",
       "  it may mean that your frontend doesn't currently support widgets.\n",
       "</p>\n"
      ],
      "text/plain": [
       "Text(value='')"
      ]
     },
     "metadata": {},
     "output_type": "display_data"
    },
    {
     "name": "stdout",
     "output_type": "stream",
     "text": [
      "0 -0.96 0.1\n",
      "200 -0.02 0.1\n",
      "400 -0.02 0.1\n",
      "600 -0.06 0.1\n",
      "800 -0.04 0.1\n"
     ]
    },
    {
     "data": {
      "image/png": "[encoded data removed]",
      "text/plain": [
       "<matplotlib.figure.Figure at 0x7f19f4087390>"
      ]
     },
     "metadata": {},
     "output_type": "display_data"
    }
   ],
   "source": [
    "screen = W.Image()\n",
    "display(screen)\n",
    "txt =W.Text()\n",
    "display(txt)\n",
    "Q=np.zeros((100,3))\n",
    "ϵ = .1\n",
    "α = 1e-2\n",
    "γ = 1\n",
    "for j in range(1001):\n",
    "    if j%20==0:\n",
    "        txt.value=\"j={} r={} {} \".format(j, r/20,  ϵ)\n",
    "        plt.clf()\n",
    "        plt.plot(Q[1:].max(axis=1))\n",
    "        with BytesIO() as bio:\n",
    "            plt.savefig(bio)            \n",
    "            screen.value = bio.getvalue()\n",
    "        if j%200==0:\n",
    "            r=0\n",
    "            for i in range(100):\n",
    "                r+=Qlearn(test=True)\n",
    "            print(j, r/100, ϵ)\n",
    "        r=0\n",
    "\n",
    "    r+=Qlearn()\n"
   ]
  },
  {
   "cell_type": "code",
   "execution_count": 192,
   "metadata": {},
   "outputs": [
    {
     "data": {
      "application/vnd.jupyter.widget-view+json": {
       "model_id": "5c81f253bde34233ace20ea9e5998e90",
       "version_major": 2,
       "version_minor": 0
      },
      "text/html": [
       "<p>Failed to display Jupyter Widget of type <code>Image</code>.</p>\n",
       "<p>\n",
       "  If you're reading this message in Jupyter Notebook or JupyterLab, it may mean\n",
       "  that the widgets JavaScript is still loading. If this message persists, it\n",
       "  likely means that the widgets JavaScript library is either not installed or\n",
       "  not enabled. See the <a href=\"https://ipywidgets.readthedocs.io/en/stable/user_install.html\">Jupyter\n",
       "  Widgets Documentation</a> for setup instructions.\n",
       "</p>\n",
       "<p>\n",
       "  If you're reading this message in another notebook frontend (for example, a static\n",
       "  rendering on GitHub or <a href=\"https://nbviewer.jupyter.org/\">NBViewer</a>),\n",
       "  it may mean that your frontend doesn't currently support widgets.\n",
       "</p>\n"
      ],
      "text/plain": [
       "Image(value=b'')"
      ]
     },
     "metadata": {},
     "output_type": "display_data"
    },
    {
     "data": {
      "text/plain": [
       "-1.0"
      ]
     },
     "execution_count": 192,
     "metadata": {},
     "output_type": "execute_result"
    }
   ],
   "source": [
    "screen = W.Image()\n",
    "display(screen)\n",
    "Qlearn(test=True, screen=screen, T=40)"
   ]
  },
  {
   "cell_type": "code",
   "execution_count": 207,
   "metadata": {},
   "outputs": [
    {
     "data": {
      "application/vnd.jupyter.widget-view+json": {
       "model_id": "68974410b79342c9acd72368f099d729",
       "version_major": 2,
       "version_minor": 0
      },
      "text/html": [
       "<p>Failed to display Jupyter Widget of type <code>Image</code>.</p>\n",
       "<p>\n",
       "  If you're reading this message in Jupyter Notebook or JupyterLab, it may mean\n",
       "  that the widgets JavaScript is still loading. If this message persists, it\n",
       "  likely means that the widgets JavaScript library is either not installed or\n",
       "  not enabled. See the <a href=\"https://ipywidgets.readthedocs.io/en/stable/user_install.html\">Jupyter\n",
       "  Widgets Documentation</a> for setup instructions.\n",
       "</p>\n",
       "<p>\n",
       "  If you're reading this message in another notebook frontend (for example, a static\n",
       "  rendering on GitHub or <a href=\"https://nbviewer.jupyter.org/\">NBViewer</a>),\n",
       "  it may mean that your frontend doesn't currently support widgets.\n",
       "</p>\n"
      ],
      "text/plain": [
       "Image(value=b'')"
      ]
     },
     "metadata": {},
     "output_type": "display_data"
    },
    {
     "data": {
      "application/vnd.jupyter.widget-view+json": {
       "model_id": "3157a63c8c174362bbf6725ded0e5b08",
       "version_major": 2,
       "version_minor": 0
      },
      "text/html": [
       "<p>Failed to display Jupyter Widget of type <code>Text</code>.</p>\n",
       "<p>\n",
       "  If you're reading this message in Jupyter Notebook or JupyterLab, it may mean\n",
       "  that the widgets JavaScript is still loading. If this message persists, it\n",
       "  likely means that the widgets JavaScript library is either not installed or\n",
       "  not enabled. See the <a href=\"https://ipywidgets.readthedocs.io/en/stable/user_install.html\">Jupyter\n",
       "  Widgets Documentation</a> for setup instructions.\n",
       "</p>\n",
       "<p>\n",
       "  If you're reading this message in another notebook frontend (for example, a static\n",
       "  rendering on GitHub or <a href=\"https://nbviewer.jupyter.org/\">NBViewer</a>),\n",
       "  it may mean that your frontend doesn't currently support widgets.\n",
       "</p>\n"
      ],
      "text/plain": [
       "Text(value='')"
      ]
     },
     "metadata": {},
     "output_type": "display_data"
    },
    {
     "name": "stdout",
     "output_type": "stream",
     "text": [
      "0 -2.45 0.1\n",
      "200 -1.0 0.1\n",
      "400 0.05 0.1\n",
      "600 -0.75 0.1\n",
      "800 -1.8 0.1\n",
      "1000 -1.4 0.1\n"
     ]
    },
    {
     "data": {
      "image/png": "[encoded data removed]",
      "text/plain": [
       "<matplotlib.figure.Figure at 0x7f19f43c2048>"
      ]
     },
     "metadata": {},
     "output_type": "display_data"
    }
   ],
   "source": [
    "screen = W.Image()\n",
    "display(screen)\n",
    "txt =W.Text()\n",
    "display(txt)\n",
    "#Q=np.zeros((100,3))\n",
    "ϵ = .1\n",
    "α = 1e-2\n",
    "γ = 1\n",
    "for j in range(1001):\n",
    "    if j%10==0:\n",
    "        txt.value=\"j={} r={} {} \".format(j, r/10,  ϵ)\n",
    "        plt.clf()\n",
    "        plt.plot(Q[1:].max(axis=1))\n",
    "        with BytesIO() as bio:\n",
    "            plt.savefig(bio)            \n",
    "            screen.value = bio.getvalue()\n",
    "        if j%200==0:\n",
    "            r=0\n",
    "            for i in range(20):\n",
    "                r+=Qlearn(test=True, T=1000)\n",
    "            print(j, r/20, ϵ)\n",
    "        r=0\n",
    "\n",
    "    r+=Qlearn(T=1000)\n"
   ]
  },
  {
   "cell_type": "code",
   "execution_count": 203,
   "metadata": {},
   "outputs": [
    {
     "data": {
      "application/vnd.jupyter.widget-view+json": {
       "model_id": "5a4f79a2a0a841cbba1cfadfdc07de69",
       "version_major": 2,
       "version_minor": 0
      },
      "text/html": [
       "<p>Failed to display Jupyter Widget of type <code>Image</code>.</p>\n",
       "<p>\n",
       "  If you're reading this message in Jupyter Notebook or JupyterLab, it may mean\n",
       "  that the widgets JavaScript is still loading. If this message persists, it\n",
       "  likely means that the widgets JavaScript library is either not installed or\n",
       "  not enabled. See the <a href=\"https://ipywidgets.readthedocs.io/en/stable/user_install.html\">Jupyter\n",
       "  Widgets Documentation</a> for setup instructions.\n",
       "</p>\n",
       "<p>\n",
       "  If you're reading this message in another notebook frontend (for example, a static\n",
       "  rendering on GitHub or <a href=\"https://nbviewer.jupyter.org/\">NBViewer</a>),\n",
       "  it may mean that your frontend doesn't currently support widgets.\n",
       "</p>\n"
      ],
      "text/plain": [
       "Image(value=b'')"
      ]
     },
     "metadata": {},
     "output_type": "display_data"
    },
    {
     "data": {
      "text/plain": [
       "1.0"
      ]
     },
     "execution_count": 203,
     "metadata": {},
     "output_type": "execute_result"
    }
   ],
   "source": [
    "screen = W.Image()\n",
    "display(screen)\n",
    "Qlearn(test=True, screen=screen, T=1000)"
   ]
  },
  {
   "cell_type": "code",
   "execution_count": 206,
   "metadata": {},
   "outputs": [
    {
     "data": {
      "text/plain": [
       "array([0, 2, 1, 2, 2, 2, 2, 2, 2, 2, 2, 2, 2, 2, 0, 2, 2, 2, 2, 2, 2, 2, 2,\n",
       "       2, 0, 2, 0, 2, 2, 1, 2, 1, 2, 2, 2, 2, 1, 2, 2, 2, 2, 2, 2, 2, 2, 2,\n",
       "       2, 2, 2, 2])"
      ]
     },
     "execution_count": 206,
     "metadata": {},
     "output_type": "execute_result"
    }
   ],
   "source": [
    "Q.argmax(axis=1)[50:]"
   ]
  },
  {
   "cell_type": "code",
   "execution_count": 15,
   "metadata": {},
   "outputs": [],
   "source": [
    "from time import sleep\n",
    "from random import randint, random, shuffle, choice\n",
    "\n",
    "α = 3e-2\n",
    "γ = 0.9\n",
    "ϵ = .3\n",
    "\n",
    "# x y0 y2 dy, a\n",
    "Q=np.zeros((210, 210, 210, 20, 3))\n",
    "actions = [0,2,3]\n",
    "def compute_s(observation):\n",
    "    dx = (observation[58]+127)%256-127\n",
    "    if dx>0:\n",
    "        return None\n",
    "    dy = (observation[56]+127)%256-127\n",
    "    x,y0 = observation[[49,54]]\n",
    "    y2 = observation[60]\n",
    "    assert 0<=x<210\n",
    "    assert -9<=dy<=9\n",
    "    return (x,y0,y2,dy+9)\n",
    "\n",
    "def Qlearn2(test=False, screen=None, T=300):\n",
    "    observation = env.reset()\n",
    "    for i in range(50):\n",
    "        observation, reward, done, info =env.step(0)\n",
    "    s2 = compute_s(observation)\n",
    "    total_r = 0\n",
    "    for i in range(T):\n",
    "        s = s2\n",
    "        if not test and random()< ϵ:\n",
    "            a = choice(actions)\n",
    "        elif s is None:\n",
    "            a = 0\n",
    "        else:\n",
    "            try:\n",
    "                a = actions[np.argmax(Q[s])]\n",
    "            except:\n",
    "                print(s)\n",
    "        observation, reward, done, info = env.step(a)        \n",
    "        s2 = compute_s(observation)\n",
    "        r = reward\n",
    "        total_r+=r\n",
    "        if not test and s is not None:\n",
    "            if s2 is None:\n",
    "                r=1\n",
    "            a = max(0, a-1)\n",
    "            Q[s][a] += α*(r+γ*Q[s2].max() - Q[s][a])\n",
    "        if screen is not None:\n",
    "            img = env.render(mode='rgb_array')\n",
    "            screen.value = to_png(img)\n",
    "            sleep(1/60)\n",
    "    return total_r"
   ]
  },
  {
   "cell_type": "code",
   "execution_count": null,
   "metadata": {
    "scrolled": false
   },
   "outputs": [
    {
     "data": {
      "application/vnd.jupyter.widget-view+json": {
       "model_id": "9f3453543bf740f18c1af9b4aaf0b37c",
       "version_major": 2,
       "version_minor": 0
      },
      "text/html": [
       "<p>Failed to display Jupyter Widget of type <code>Text</code>.</p>\n",
       "<p>\n",
       "  If you're reading this message in Jupyter Notebook or JupyterLab, it may mean\n",
       "  that the widgets JavaScript is still loading. If this message persists, it\n",
       "  likely means that the widgets JavaScript library is either not installed or\n",
       "  not enabled. See the <a href=\"https://ipywidgets.readthedocs.io/en/stable/user_install.html\">Jupyter\n",
       "  Widgets Documentation</a> for setup instructions.\n",
       "</p>\n",
       "<p>\n",
       "  If you're reading this message in another notebook frontend (for example, a static\n",
       "  rendering on GitHub or <a href=\"https://nbviewer.jupyter.org/\">NBViewer</a>),\n",
       "  it may mean that your frontend doesn't currently support widgets.\n",
       "</p>\n"
      ],
      "text/plain": [
       "Text(value='')"
      ]
     },
     "metadata": {},
     "output_type": "display_data"
    },
    {
     "name": "stdout",
     "output_type": "stream",
     "text": [
      "0 -6.0\n",
      "200 -5.99\n",
      "400 -5.96\n"
     ]
    }
   ],
   "source": [
    "#screen = W.Image()\n",
    "#display(screen)\n",
    "txt =W.Text()\n",
    "display(txt)\n",
    "for j in range(20001):\n",
    "    if j%20==0:\n",
    "        txt.value=str(j)\n",
    "        r=0\n",
    "        if j%200==0:\n",
    "            for i in range(100):\n",
    "                r+=Qlearn2(test=True)\n",
    "            print(j, r/100)\n",
    "    Qlearn2()\n"
   ]
  },
  {
   "cell_type": "code",
   "execution_count": 20,
   "metadata": {},
   "outputs": [
    {
     "data": {
      "text/plain": [
       "-4.31"
      ]
     },
     "execution_count": 20,
     "metadata": {},
     "output_type": "execute_result"
    }
   ],
   "source": [
    "r/100"
   ]
  }
 ],
 "metadata": {
  "kernelspec": {
   "display_name": "Python 3",
   "language": "python",
   "name": "python3"
  }
 },
 "nbformat": 4,
 "nbformat_minor": 2
}
